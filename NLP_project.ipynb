{
 "cells": [
  {
   "cell_type": "code",
   "execution_count": 3,
   "metadata": {
    "id": "WoZ5ca3U6aAD"
   },
   "outputs": [],
   "source": [
    "import sys, os\n",
    "\n",
    "import numpy as np\n",
    "\n",
    "import trajectory as T                      # trajectory generation\n",
    "import optimizer as O                       # stochastic gradient descent optimizer\n",
    "\n",
    "from maxent import irl"
   ]
  },
  {
   "cell_type": "code",
   "execution_count": 4,
   "metadata": {
    "id": "gzg0oC0ovuej"
   },
   "outputs": [],
   "source": [
    "def word_to_state(word):\n",
    "\n",
    "    verb_positive_words = ['bloom', 'soar', 'soars', 'sparkle', 'thrive', 'illuminates', 'illuminate']\n",
    "    verb_negative_words = ['complain', 'argue', 'blame', 'grumble', 'snarl']\n",
    "    verb_inactive_words = ['rest', 'pause', 'hovers', 'hover', 'lazes', 'laze', 'bask']\n",
    "    verb_active_words = ['smash', 'grab', 'push', 'shout', 'storm']\n",
    "    adv_time_words = ['suddenly', 'gradually', 'eventually', 'shortly', 'instantly']\n",
    "    adv_place_words = ['here', 'there', 'everywhere', 'nowhere', 'somewhere']\n",
    "    adv_interrogative_words = ['curiously', 'wonderingly', 'questioningly', 'doubtfully', 'pensively']\n",
    "    adv_uncertain_words = ['maybe', 'possibly', 'likely', 'arguably', 'presumably']\n",
    "    adv_certain_words = ['definitely', 'surely', 'clearly', 'obviously', 'undoubtedly']\n",
    "    adj_descriptive_words = ['bright', 'calm', 'colorful', 'peaceful', 'radiant']\n",
    "    adj_quantitative_words = ['little', 'few', 'some', 'many', 'much']\n",
    "    noun_soft =  ['feather', 'whisper', 'breeze', 'lullaby', 'velvet', 'serenity', 'meadow', 'bubble', 'petal', 'harmony', 'fawn', 'mist', 'silk', 'cushion', 'fluff', 'hush', 'dew', 'sigh', 'cocoon', 'murmur']\n",
    "    noun_harsh = ['clash', 'fracture', 'gravel', 'jolt', 'quake', 'blaze', 'torrent', 'shatter', 'thorn', 'crunch', 'screech', 'grit', 'splinter', 'snarl', 'flare', 'rupture', 'smog', 'clash', 'blitz', 'jagged']\n",
    "    first_person_pronouns = ['i', 'me', 'my', 'mine', 'we', 'us', 'our', 'ours']\n",
    "    second_person_pronouns = ['you', 'your', 'yours']\n",
    "    third_person_pronouns = ['he', 'him', 'his', 'she', 'her', 'hers', 'it', 'its', 'they', 'them', 'their', 'theirs']\n",
    "    prepositions = ['in', 'on', 'under', 'over', 'with', 'without']\n",
    "    determiners = ['the', 'a', 'an', 'this', 'that', 'these', 'those']\n",
    "    conjuctions = ['because', 'since', 'as', 'so', 'for', 'and', 'but', 'or']\n",
    "    ponctuation_neutral = [\".\"]\n",
    "    ponctuation_emotional = [\"!\", \"?\"]\n",
    "\n",
    "\n",
    "\n",
    "    word_lower = word.lower()\n",
    "\n",
    "\n",
    "    if word_lower in verb_positive_words:\n",
    "        return 'Verb_positive'\n",
    "    elif word_lower in verb_negative_words:\n",
    "        return 'Verb_negative'\n",
    "    elif word_lower in verb_inactive_words:\n",
    "        return 'Verb_inaction'\n",
    "    elif word_lower in verb_active_words:\n",
    "        return 'Verb_action'\n",
    "    elif word_lower in adv_time_words:\n",
    "        return 'Adverb_time'\n",
    "    elif word_lower in adv_place_words:\n",
    "        return 'Adverb_place'\n",
    "    elif word_lower in adv_interrogative_words:\n",
    "        return 'Adverb_interrogative'\n",
    "    elif word_lower in adj_descriptive_words:\n",
    "        return 'Adj_descriptive'\n",
    "    elif word_lower in adj_quantitative_words:\n",
    "        return 'Adj_quantitative'\n",
    "    elif word_lower in adv_uncertain_words:\n",
    "        return 'Adverb_uncertain'\n",
    "    elif word_lower in adv_certain_words:\n",
    "        return 'Adverb_certain'\n",
    "    elif word_lower in conjuctions:\n",
    "        return 'Conjunction'\n",
    "    elif word_lower in noun_soft:\n",
    "        return 'Noun_soft'\n",
    "    elif word_lower in noun_harsh:\n",
    "        return 'Noun_harsh'\n",
    "    elif word_lower in first_person_pronouns:\n",
    "        return 'P_1st'\n",
    "    elif word_lower in second_person_pronouns:\n",
    "        return 'P_2nd'\n",
    "    elif word_lower in third_person_pronouns:\n",
    "        return 'P_3rd'\n",
    "    elif word_lower in prepositions:\n",
    "        return 'Prep'\n",
    "    elif word_lower in determiners:\n",
    "        return 'Det'\n",
    "    elif word_lower in ponctuation_neutral:\n",
    "      return 'Ponct_n'\n",
    "    elif word_lower in ponctuation_emotional:\n",
    "      return 'Ponct_e'\n",
    "\n",
    "    else:\n",
    "        assert False, \"Unknown category for the provided word.\"\n",
    "        return 'Unknown'\n",
    "\n",
    "\n"
   ]
  },
  {
   "cell_type": "code",
   "execution_count": 5,
   "metadata": {
    "id": "CGICH-Dmn2qZ"
   },
   "outputs": [],
   "source": [
    "states =  ['Verb_positive',\n",
    " 'Verb_negative',\n",
    " 'Verb_action',\n",
    " 'Verb_inaction',\n",
    " 'Adverb_time',\n",
    " 'Adverb_place',\n",
    " 'Adverb_interrogative',\n",
    " 'Adj_descriptive',\n",
    " 'Adj_quantitative',\n",
    " 'Adverb_certain',\n",
    " 'Adverb_uncertain',\n",
    " 'Noun_harsh',\n",
    " 'Noun_soft',\n",
    " 'Ponct_n',\n",
    " 'Ponct_e',\n",
    " 'P_1st',\n",
    " 'P_2nd',\n",
    " 'P_3rd',\n",
    " 'Prep',\n",
    " 'Det',\n",
    " 'Conjunction',\n",
    " ]\n",
    "\n",
    "\n",
    "\n",
    "states_one_hot = np.zeros((len(states), len(states)))\n",
    "\n",
    "one_hot_encoding_dic = {state: [0] * len(states) for state in states}\n",
    "\n",
    "state_number_dic = {state: 0  for state in states}\n",
    "\n",
    "\n",
    "# Set the corresponding index to 1 for each state\n",
    "for i, state in enumerate(states):\n",
    "    one_hot_encoding_dic[state][i] = 1\n",
    "    state_number_dic[state] = i\n",
    "    states_one_hot[i, i] = 1\n",
    "\n"
   ]
  },
  {
   "cell_type": "code",
   "execution_count": 6,
   "metadata": {
    "id": "FvPFHE6s6kBA"
   },
   "outputs": [],
   "source": [
    "import numpy as np\n",
    "\n",
    "states = ['Verb_positive', 'Verb_negative', 'Verb_action', 'Verb_inaction',\n",
    "          'Adverb_time', 'Adverb_place', 'Adverb_interrogative',\n",
    "          'Adj_descriptive', 'Adj_quantitative', 'Adverb_certain',\n",
    "          'Adverb_uncertain', 'Noun_harsh', 'Noun_soft', 'Ponct_n', 'Ponct_e',\n",
    "          'P_1st', 'P_2nd', 'P_3rd', 'Prep', 'Det', 'Conjunction']\n",
    "\n",
    "# Initialize the one-hot encoding dictionary\n",
    "one_hot_encoding_dic = {state: [0] * len(states) for state in states}\n",
    "\n",
    "# Initialize a dictionary to keep track of state numbers\n",
    "state_number_dic = {state: i for i, state in enumerate(states)}\n",
    "\n",
    "# Create a matrix for one-hot encoding of individual states\n",
    "states_one_hot = np.zeros((len(states), len(states)))\n",
    "\n",
    "# Set the corresponding index to 1 for each state\n",
    "for state in states:\n",
    "    states_one_hot[state_number_dic[state], state_number_dic[state]] = 1\n",
    "    one_hot_encoding_dic[state][state_number_dic[state]] = 1\n",
    "\n",
    "# Create a matrix for one-hot encoding of bigram combinations\n",
    "bigrams_one_hot = np.zeros((len(states)**2, len(states)**2))\n",
    "\n",
    "# Create a dictionary for bigram one-hot encoding\n",
    "bigram_one_hot_encoding_dic = {}\n",
    "\n",
    "bigram_number_dic = {}\n",
    "\n",
    "# Generate one-hot representations for all bigram combinations\n",
    "for i, state1 in enumerate(states):\n",
    "    for j, state2 in enumerate(states):\n",
    "        bigram = (state1, state2)\n",
    "        index = i * len(states) + j\n",
    "        bigrams_one_hot[index, index] = 1\n",
    "        bigram_one_hot_encoding_dic[bigram] = [0] * (len(states)**2)\n",
    "        bigram_number_dic[bigram] = index\n",
    "        bigram_one_hot_encoding_dic[bigram][index] = 1\n"
   ]
  },
  {
   "cell_type": "code",
   "execution_count": 7,
   "metadata": {
    "id": "Ly7v2W2BMJ_d"
   },
   "outputs": [],
   "source": [
    "from typing import Dict, List, Union\n",
    "import random\n",
    "\n",
    "class CFG_1:\n",
    "    def __init__(self, rules: Dict[str, List[Union[str, List[str]]]], terminals: Dict[str, List[str]]):\n",
    "        self.rules = rules\n",
    "        self.terminals = terminals\n",
    "\n",
    "    def generate(self, symbol: str) -> str:\n",
    "\n",
    "\n",
    "        production_prev = []\n",
    "\n",
    "        if symbol in self.rules:\n",
    "            \n",
    "            if symbol==\"Sentence\":\n",
    "                production = random.choices(self.rules[symbol], weights=(0.1, 0.9), k=1)[0]\n",
    "            elif symbol==\"Simple_1\" or symbol==\"Simple_2\":\n",
    "                production = random.choices(self.rules[symbol], weights=(0.1, 0.4, 0.5), k=1)[0]\n",
    "            elif symbol==\"Object\":\n",
    "                production = random.choices(self.rules[symbol], weights=(0.1, 0.1, 0.4, 0.4), k=1)[0]\n",
    "            elif symbol==\"Ponctuation\":\n",
    "                production = random.choices(self.rules[symbol], weights=(0.25, 0.75), k=1)[0]\n",
    "            elif symbol==\"Pronoun\":\n",
    "                production = random.choices(self.rules[symbol], weights=(0.7, 0.2, 0.1), k=1)[0]\n",
    "            elif symbol==\"Noun\":\n",
    "                production = random.choices(self.rules[symbol], weights=(0.8, 0.2), k=1)[0]\n",
    "            elif symbol==\"Verb\":\n",
    "                production = random.choices(self.rules[symbol], weights=(0.4, 0.1, 0.1, 0.4), k=1)[0]\n",
    "            elif symbol==\"Adj\":\n",
    "                production = random.choices(self.rules[symbol], weights=(0.8, 0.2), k=1)[0]\n",
    "            elif symbol==\"Object\":\n",
    "                production = random.choices(self.rules[symbol], weights=(0.1, 0.1, 0.4, 0.4), k=1)[0]\n",
    "\n",
    "            else:\n",
    "                production = random.choice(self.rules[symbol])\n",
    "                \n",
    "            return ' '.join(self.generate(sym) for sym in production).capitalize()\n",
    "            \n",
    "        elif symbol in self.terminals:\n",
    "            return random.choice(self.terminals[symbol])\n",
    "        else:\n",
    "            return symbol\n"
   ]
  },
  {
   "cell_type": "code",
   "execution_count": 8,
   "metadata": {},
   "outputs": [],
   "source": [
    "class CFG_2:\n",
    "    def __init__(self, rules: Dict[str, List[Union[str, List[str]]]], terminals: Dict[str, List[str]]):\n",
    "        self.rules = rules\n",
    "        self.terminals = terminals\n",
    "\n",
    "    def generate(self, symbol: str) -> str:\n",
    "\n",
    "\n",
    "        production_prev = []\n",
    "\n",
    "        if symbol in self.rules:\n",
    "            \n",
    "            if symbol==\"Sentence\":\n",
    "                production = random.choices(self.rules[symbol], weights=(0.9, 0.1), k=1)[0]\n",
    "            elif symbol==\"Simple_1\" or symbol==\"Simple_2\":\n",
    "                production = random.choices(self.rules[symbol], weights=(0.7, 0.3, 0), k=1)[0]\n",
    "            elif symbol==\"VP\":\n",
    "                production = random.choices(self.rules[symbol], weights=(1.0, 0), k=1)[0]\n",
    "            elif symbol==\"Object\":\n",
    "                production = random.choices(self.rules[symbol], weights=(0.4, 0.4, 0.1, 0.1), k=1)[0]\n",
    "            elif symbol==\"Ponctuation\":\n",
    "                production = random.choices(self.rules[symbol], weights=(0.75, 0.25), k=1)[0]\n",
    "            elif symbol==\"Pronoun\":\n",
    "                production = random.choices(self.rules[symbol], weights=(0.1, 0.2, 0.7), k=1)[0]\n",
    "            elif symbol==\"Noun\":\n",
    "                production = random.choices(self.rules[symbol], weights=(0.2, 0.8), k=1)[0]\n",
    "            elif symbol==\"Verb\":\n",
    "                production = random.choices(self.rules[symbol], weights=(0.1, 0.4, 0.4, 0.1), k=1)[0]\n",
    "            elif symbol==\"Adj\":\n",
    "                production = random.choices(self.rules[symbol], weights=(0.2, 0.8), k=1)[0]\n",
    "\n",
    "            else:\n",
    "                production = random.choice(self.rules[symbol])\n",
    "                \n",
    "            return ' '.join(self.generate(sym) for sym in production).capitalize()\n",
    "            \n",
    "        elif symbol in self.terminals:\n",
    "            return random.choice(self.terminals[symbol])\n",
    "        else:\n",
    "            return symbol"
   ]
  },
  {
   "cell_type": "code",
   "execution_count": 9,
   "metadata": {
    "id": "zNytgAnpMHLO"
   },
   "outputs": [],
   "source": [
    "cfg_rules = {\n",
    "    \"Sentence\": [[\"Simple_2\"], [\"Compound\"]],\n",
    "    \"Compound\": [[\"Simple_1\", \"Conjunction\", \"Simple_2\"]],\n",
    "    \"Simple_1\": [\n",
    "        [\"Sub\", \"VP\"],\n",
    "        [\"Sub\", \"VP\", \"Object\"],\n",
    "        [\"Sub\", \"VP\", \"Object\", \"Adverb\"]\n",
    "    ],\n",
    "\n",
    "    \"Simple_2\": [\n",
    "        [\"Sub\", \"VP\", \"Ponctuation\"],\n",
    "        [\"Sub\", \"VP\", \"Object\", \"Ponctuation\"],\n",
    "        [\"Sub\", \"VP\", \"Object\", \"Adverb\", \"Ponctuation\"]\n",
    "    ],\n",
    "    \"Sub\": [[\"Pronoun\"], [\"Noun\"], [\"Det\", \"Noun\"], [\"Det\", \"Adj\", \"Noun\"]],\n",
    "    \"VP\": [[\"Verb\"], [\"Verb\", \"Adverb\"]],\n",
    "    \"Object\": [\n",
    "        [\"Det\", \"Noun\"],\n",
    "        [\"Det\", \"Adj\", \"Noun\"],\n",
    "        [\"Prep\", \"Det\", \"Noun\"],\n",
    "        [\"Prep\", \"Det\", \"Adj\", \"Noun\"]\n",
    "    ],\n",
    "    \"Noun\": [[\"Noun_soft\"], [\"Noun_harsh\"]],\n",
    "    \"Adj\": [[\"Adj_descriptive\"], [\"Adj_quantitative\"]],\n",
    "    \"Pronoun\": [[\"P_1st\"], [\"P_2nd\"], [\"P_3rd\"]],\n",
    "    \"Verb\": [[\"Verb_positive\"], [\"Verb_negative\"], [\"Verb_action\"], [\"Verb_inaction\"]],\n",
    "    \"Adverb\": [[\"Adverb_time\"], [\"Adverb_place\"], [\"Adverb_interrogative\"], [\"Adverb_certain\"], [\"Adverb_uncertain\"]],\n",
    "    \"Conjunction\": [['because'], ['since'], ['as'], ['so'], ['for'], ['and'], ['but'], ['or']],\n",
    "    \"Det\": [[\"the\"], [\"a\"], [\"an\"], [\"this\"], [\"that\"], [\"these\"], [\"those\"]],\n",
    "    \"Prep\": [[\"in\"], [\"on\"], [\"under\"], [\"over\"], [\"with\"], [\"without\"]],\n",
    "    \"Ponctuation\": [[\"Ponct_n\"], [\"Ponct_e\"]]\n",
    "\n",
    "\n",
    "}\n",
    "\n",
    "terminal_words = {\n",
    "    \"Verb_positive\": ['bloom', 'soar', 'soars', 'sparkle', 'thrive', 'illuminates', 'illuminate'],\n",
    "    \"Verb_negative\": ['complain', 'argue', 'blame', 'grumble', 'snarl'],\n",
    "    \"Verb_action\": ['smash', 'grab', 'push', 'shout', 'storm'],\n",
    "    \"Verb_inaction\": ['rest', 'pause', 'hovers', 'hover', 'lazes', 'laze', 'bask'],\n",
    "    \"Adverb_time\": ['suddenly', 'gradually', 'eventually', 'shortly', 'instantly'],\n",
    "    \"Adverb_place\": ['here', 'there', 'everywhere', 'nowhere', 'somewhere'],\n",
    "    \"Adverb_interrogative\": ['curiously', 'wonderingly', 'questioningly', 'doubtfully', 'pensively'],\n",
    "    \"Adj_descriptive\": ['bright', 'calm',  'colorful', 'peaceful', 'radiant'],\n",
    "    \"Adj_quantitative\": ['little', 'few', 'some', 'many', 'much'],\n",
    "    \"Adverb_certain\": ['definitely', 'surely', 'clearly', 'obviously', 'undoubtedly'],\n",
    "    \"Adverb_uncertain\": ['maybe', 'possibly', 'likely', 'arguably', 'presumably'],\n",
    "    #\"Noun_simple\": ['car', 'house', 'job', 'money', 'phone', 'discord', 'blight', 'accident', 'damage', 'pain'],\n",
    "    \"Noun_soft\": [\"Feather\", \"Whisper\", \"Breeze\", \"Lullaby\", \"Velvet\", \"Serenity\", \"Meadow\", \"Bubble\", \"Petal\", \"Harmony\",  \"Fawn\", \"Mist\", \"Silk\", \"Cushion\", \"Fluff\", \"Hush\", \"Dew\", \"Sigh\", \"Cocoon\", \"Murmur\"],\n",
    "    \"Noun_harsh\" : [ \"Clash\", \"Fracture\", \"Gravel\", \"Jolt\", \"Quake\",  \"Blaze\", \"Torrent\", \"Shatter\", \"Thorn\", \"Crunch\",  \"Screech\", \"Grit\", \"Splinter\", \"Snarl\", \"Flare\",  \"Rupture\", \"Smog\", \"Clash\", \"Blitz\", \"Jagged\"],\n",
    "    \"P_1st\": ['i', 'me', 'mine', 'we', 'us', 'our', 'ours'],\n",
    "    \"P_2nd\": ['you', 'your', 'yours'],\n",
    "    \"P_3rd\": ['he', 'him', 'his', 'she', 'her', 'hers', 'it', 'its', 'they', 'them', 'their', 'theirs'],\n",
    "    \"Ponct_n\": ['.'],\n",
    "    \"Ponct_e\": ['?', '!']\n",
    "\n",
    "}"
   ]
  },
  {
   "cell_type": "code",
   "execution_count": 10,
   "metadata": {
    "colab": {
     "base_uri": "https://localhost:8080/",
     "height": 37
    },
    "id": "actAkspxMHIn",
    "outputId": "609cf850-3827-42b1-e07d-55a17f74cd53"
   },
   "outputs": [
    {
     "data": {
      "text/plain": [
       "'Our soar possibly on the fluff but this petal illuminates obviously with this meadow surely .'"
      ]
     },
     "execution_count": 10,
     "metadata": {},
     "output_type": "execute_result"
    }
   ],
   "source": [
    "# positive sentences\n",
    "cfg = CFG_1(cfg_rules, terminal_words)\n",
    "\n",
    "sentence = cfg.generate(\"Sentence\")\n",
    "sentence"
   ]
  },
  {
   "cell_type": "code",
   "execution_count": 11,
   "metadata": {},
   "outputs": [
    {
     "data": {
      "text/plain": [
       "'Those calm blitz shout a many grit ?'"
      ]
     },
     "execution_count": 11,
     "metadata": {},
     "output_type": "execute_result"
    }
   ],
   "source": [
    "# negative sentences\n",
    "cfg = CFG_2(cfg_rules, terminal_words)\n",
    "\n",
    "sentence = cfg.generate(\"Sentence\")\n",
    "sentence"
   ]
  },
  {
   "cell_type": "code",
   "execution_count": 13,
   "metadata": {
    "id": "OH1lCHTrMHFy",
    "scrolled": true
   },
   "outputs": [],
   "source": [
    "cfg = CFG_1(cfg_rules, terminal_words)\n",
    "\n",
    "\n",
    "pos_sentences = []\n",
    "\n",
    "\n",
    "for _ in range(50):\n",
    "\n",
    "  sentence = cfg.generate(\"Sentence\")\n",
    "  pos_sentences.append(sentence)"
   ]
  },
  {
   "cell_type": "code",
   "execution_count": 14,
   "metadata": {
    "id": "qnCMlzmnMHDc"
   },
   "outputs": [],
   "source": [
    "cfg = CFG_2(cfg_rules, terminal_words)\n",
    "\n",
    "\n",
    "neg_sentences = []\n",
    "\n",
    "\n",
    "for _ in range(50):\n",
    "\n",
    "  sentence = cfg.generate(\"Sentence\")\n",
    "  neg_sentences.append(sentence)"
   ]
  },
  {
   "cell_type": "code",
   "execution_count": 15,
   "metadata": {
    "colab": {
     "base_uri": "https://localhost:8080/"
    },
    "id": "fkBv0SfsMHBJ",
    "outputId": "52c68272-c0ca-4766-a0f9-95dfca99ebe6",
    "scrolled": true
   },
   "outputs": [
    {
     "data": {
      "text/plain": [
       "['The bright fawn lazes in that radiant lullaby but it hover gradually the serenity ?',\n",
       " 'A peaceful hush laze in an colorful petal wonderingly for our bask shortly under these whisper !',\n",
       " 'Your bloom on these calm crunch and us bloom with that calm whisper gradually !',\n",
       " 'Grit hover without a calm hush surely for a cocoon shout surely without the colorful harmony ?',\n",
       " 'This velvet pause curiously under this colorful harmony so cushion rest likely over these feather pensively !',\n",
       " 'Those sigh pause pensively on the calm bubble nowhere and the some velvet smash likely those fawn pensively ?',\n",
       " 'The harmony smash clearly without this petal arguably or mine blame suddenly over these sigh somewhere ?',\n",
       " 'That calm velvet bask as snarl hovers pensively over an bright mist questioningly !',\n",
       " 'Whisper complain pensively on the murmur clearly as fluff bloom doubtfully over an meadow everywhere ?',\n",
       " 'Breeze lazes surely on those clash somewhere as that colorful hush bloom presumably under an splinter !',\n",
       " 'These whisper bask in those cocoon so an jagged argue everywhere with this blitz ?',\n",
       " 'I shout questioningly in a radiant blaze because an bright velvet blame with that colorful fracture likely !',\n",
       " 'Our laze gradually an crunch so the cocoon bloom clearly those silk maybe ?',\n",
       " 'Feather soar obviously that much cocoon questioningly or that feather laze !',\n",
       " 'This cushion bloom without an cocoon as an calm smog bloom clearly under a murmur ?',\n",
       " 'Him thrive with the feather and these fluff grab without this snarl ?',\n",
       " 'An dew bask shortly on the quake .',\n",
       " 'Cocoon complain in these colorful velvet or harmony storm shortly those harmony ?',\n",
       " 'Flare soar over the whisper for this breeze soar in those feather suddenly ?',\n",
       " 'A peaceful fawn storm without those bright hush because that radiant shatter complain surely the peaceful clash ?',\n",
       " 'This colorful flare sparkle the fawn eventually so me blame !',\n",
       " 'These some fluff sparkle with these velvet doubtfully but mine hovers there under the hush !',\n",
       " 'Those fawn illuminates shortly those fawn obviously but they bask curiously on the dew there !',\n",
       " 'This feather bask undoubtedly over those radiant cocoon as an radiant sigh rest a hush pensively !',\n",
       " 'This mist thrive in an feather and that cushion soar without the meadow gradually .',\n",
       " 'An dew grumble wonderingly over those murmur as me shout shortly on a whisper ?',\n",
       " 'The feather bask but an peaceful velvet illuminate without the calm smog nowhere .',\n",
       " 'Ours bask over the hush maybe !',\n",
       " 'Those colorful jagged hovers curiously since mine soar this some velvet curiously ?',\n",
       " 'These colorful hush bask doubtfully in an peaceful hush but those colorful cocoon complain in an cushion nowhere !',\n",
       " 'Whisper hover definitely an hush curiously but those cocoon snarl possibly without the radiant hush pensively ?',\n",
       " 'He illuminate in these screech for a jagged hover obviously on those whisper definitely !',\n",
       " 'Our illuminates here the bright murmur shortly for a serenity sparkle surely over a radiant lullaby !',\n",
       " 'That bright meadow blame as harmony blame over that serenity !',\n",
       " 'That bubble rest clearly over this calm silk since the colorful meadow illuminate there on an cocoon ?',\n",
       " 'A rupture grab without that radiant cushion but me illuminate presumably without those colorful mist eventually !',\n",
       " 'Harmony illuminate possibly in those cushion shortly !',\n",
       " 'Our hover under that meadow definitely ?',\n",
       " 'This colorful serenity lazes with those blaze possibly because murmur illuminate obviously without those gravel !',\n",
       " 'The colorful gravel hovers in a fawn as i sparkle nowhere !',\n",
       " 'Our soar over these bright petal but a calm jagged argue on a radiant clash suddenly !',\n",
       " 'Blaze hovers without those bright grit obviously because whisper rest instantly under that blitz .',\n",
       " 'I sparkle with that rupture as those colorful fracture laze ?',\n",
       " 'The radiant dew soar pensively on that fluff definitely so i argue maybe under these meadow ?',\n",
       " 'Your hover suddenly that harmony there but this grit lazes !',\n",
       " 'That blitz hover surely in that harmony since those radiant dew soars likely on an feather arguably .',\n",
       " 'This sigh grab over those bright velvet nowhere since an whisper shout .',\n",
       " 'I thrive on a screech clearly ?',\n",
       " 'Smog bask with this cocoon pensively ?',\n",
       " 'This petal laze gradually under a few breeze suddenly since this bright serenity illuminate with a peaceful bubble maybe ?']"
      ]
     },
     "execution_count": 15,
     "metadata": {},
     "output_type": "execute_result"
    }
   ],
   "source": [
    "pos_sentences"
   ]
  },
  {
   "cell_type": "code",
   "execution_count": 16,
   "metadata": {
    "colab": {
     "base_uri": "https://localhost:8080/"
    },
    "id": "r1cOFFGwPKQ1",
    "outputId": "105119d3-bd29-40e4-d8b9-419d8ce539b3",
    "scrolled": true
   },
   "outputs": [
    {
     "data": {
      "text/plain": [
       "['Clash argue over a little snarl .',\n",
       " 'This dew laze because it pause .',\n",
       " 'These blitz grab that blaze because it pause ?',\n",
       " 'Me snarl !',\n",
       " 'The radiant blitz snarl those torrent .',\n",
       " 'He blame those flare .',\n",
       " 'This few jolt grab .',\n",
       " 'Hers blame ?',\n",
       " 'These little silk smash but blitz complain those colorful flare .',\n",
       " 'Your shout .',\n",
       " 'This some bubble argue !',\n",
       " 'An jolt complain because clash pause !',\n",
       " 'Your blame .',\n",
       " 'This blitz shout so this some quake push an torrent .',\n",
       " 'Your complain that bright clash .',\n",
       " 'Their storm that few grit .',\n",
       " 'That radiant gravel bloom !',\n",
       " 'Yours hover .',\n",
       " 'This clash storm .',\n",
       " 'This cushion snarl .',\n",
       " 'This some fracture shout .',\n",
       " 'A sigh storm .',\n",
       " 'These many hush bask .',\n",
       " 'A little blaze complain .',\n",
       " 'This rupture grumble ?',\n",
       " 'Torrent grab .',\n",
       " 'A bright shatter lazes ?',\n",
       " 'Her thrive that shatter !',\n",
       " 'He grumble .',\n",
       " 'Those thorn argue .',\n",
       " 'These many snarl grab .',\n",
       " 'Those blaze smash .',\n",
       " 'Those quake smash ?',\n",
       " 'It soars a grit .',\n",
       " 'Those snarl complain !',\n",
       " 'A cocoon grumble .',\n",
       " 'That peaceful meadow hovers .',\n",
       " 'Flare illuminate .',\n",
       " 'Yours blame !',\n",
       " 'Flare grumble .',\n",
       " 'Grit push .',\n",
       " 'The much clash storm ?',\n",
       " 'Her storm the much jagged .',\n",
       " 'Thorn blame this little flare as quake storm .',\n",
       " 'Splinter bask .',\n",
       " 'Your sparkle .',\n",
       " 'Those clash snarl .',\n",
       " 'Its snarl .',\n",
       " 'A thorn argue these smog .',\n",
       " 'Them complain ?']"
      ]
     },
     "execution_count": 16,
     "metadata": {},
     "output_type": "execute_result"
    }
   ],
   "source": [
    "neg_sentences"
   ]
  },
  {
   "cell_type": "code",
   "execution_count": 17,
   "metadata": {
    "id": "1rsv_ZsTp18k"
   },
   "outputs": [],
   "source": [
    "for i in range(len(pos_sentences)):\n",
    "  pos_sentences[i] = pos_sentences[i].split()\n",
    "\n",
    "for i in range(len(neg_sentences)):\n",
    "  neg_sentences[i] = neg_sentences[i].split()\n",
    "\n",
    "\n"
   ]
  },
  {
   "cell_type": "code",
   "execution_count": 18,
   "metadata": {
    "colab": {
     "base_uri": "https://localhost:8080/"
    },
    "id": "9U7mwV7lmG_p",
    "outputId": "14ad0b9e-0865-42fd-881e-05618a54f494",
    "scrolled": true
   },
   "outputs": [
    {
     "data": {
      "text/plain": [
       "[['The',\n",
       "  'bright',\n",
       "  'fawn',\n",
       "  'lazes',\n",
       "  'in',\n",
       "  'that',\n",
       "  'radiant',\n",
       "  'lullaby',\n",
       "  'but',\n",
       "  'it',\n",
       "  'hover',\n",
       "  'gradually',\n",
       "  'the',\n",
       "  'serenity',\n",
       "  '?'],\n",
       " ['A',\n",
       "  'peaceful',\n",
       "  'hush',\n",
       "  'laze',\n",
       "  'in',\n",
       "  'an',\n",
       "  'colorful',\n",
       "  'petal',\n",
       "  'wonderingly',\n",
       "  'for',\n",
       "  'our',\n",
       "  'bask',\n",
       "  'shortly',\n",
       "  'under',\n",
       "  'these',\n",
       "  'whisper',\n",
       "  '!'],\n",
       " ['Your',\n",
       "  'bloom',\n",
       "  'on',\n",
       "  'these',\n",
       "  'calm',\n",
       "  'crunch',\n",
       "  'and',\n",
       "  'us',\n",
       "  'bloom',\n",
       "  'with',\n",
       "  'that',\n",
       "  'calm',\n",
       "  'whisper',\n",
       "  'gradually',\n",
       "  '!'],\n",
       " ['Grit',\n",
       "  'hover',\n",
       "  'without',\n",
       "  'a',\n",
       "  'calm',\n",
       "  'hush',\n",
       "  'surely',\n",
       "  'for',\n",
       "  'a',\n",
       "  'cocoon',\n",
       "  'shout',\n",
       "  'surely',\n",
       "  'without',\n",
       "  'the',\n",
       "  'colorful',\n",
       "  'harmony',\n",
       "  '?'],\n",
       " ['This',\n",
       "  'velvet',\n",
       "  'pause',\n",
       "  'curiously',\n",
       "  'under',\n",
       "  'this',\n",
       "  'colorful',\n",
       "  'harmony',\n",
       "  'so',\n",
       "  'cushion',\n",
       "  'rest',\n",
       "  'likely',\n",
       "  'over',\n",
       "  'these',\n",
       "  'feather',\n",
       "  'pensively',\n",
       "  '!'],\n",
       " ['Those',\n",
       "  'sigh',\n",
       "  'pause',\n",
       "  'pensively',\n",
       "  'on',\n",
       "  'the',\n",
       "  'calm',\n",
       "  'bubble',\n",
       "  'nowhere',\n",
       "  'and',\n",
       "  'the',\n",
       "  'some',\n",
       "  'velvet',\n",
       "  'smash',\n",
       "  'likely',\n",
       "  'those',\n",
       "  'fawn',\n",
       "  'pensively',\n",
       "  '?'],\n",
       " ['The',\n",
       "  'harmony',\n",
       "  'smash',\n",
       "  'clearly',\n",
       "  'without',\n",
       "  'this',\n",
       "  'petal',\n",
       "  'arguably',\n",
       "  'or',\n",
       "  'mine',\n",
       "  'blame',\n",
       "  'suddenly',\n",
       "  'over',\n",
       "  'these',\n",
       "  'sigh',\n",
       "  'somewhere',\n",
       "  '?'],\n",
       " ['That',\n",
       "  'calm',\n",
       "  'velvet',\n",
       "  'bask',\n",
       "  'as',\n",
       "  'snarl',\n",
       "  'hovers',\n",
       "  'pensively',\n",
       "  'over',\n",
       "  'an',\n",
       "  'bright',\n",
       "  'mist',\n",
       "  'questioningly',\n",
       "  '!'],\n",
       " ['Whisper',\n",
       "  'complain',\n",
       "  'pensively',\n",
       "  'on',\n",
       "  'the',\n",
       "  'murmur',\n",
       "  'clearly',\n",
       "  'as',\n",
       "  'fluff',\n",
       "  'bloom',\n",
       "  'doubtfully',\n",
       "  'over',\n",
       "  'an',\n",
       "  'meadow',\n",
       "  'everywhere',\n",
       "  '?'],\n",
       " ['Breeze',\n",
       "  'lazes',\n",
       "  'surely',\n",
       "  'on',\n",
       "  'those',\n",
       "  'clash',\n",
       "  'somewhere',\n",
       "  'as',\n",
       "  'that',\n",
       "  'colorful',\n",
       "  'hush',\n",
       "  'bloom',\n",
       "  'presumably',\n",
       "  'under',\n",
       "  'an',\n",
       "  'splinter',\n",
       "  '!'],\n",
       " ['These',\n",
       "  'whisper',\n",
       "  'bask',\n",
       "  'in',\n",
       "  'those',\n",
       "  'cocoon',\n",
       "  'so',\n",
       "  'an',\n",
       "  'jagged',\n",
       "  'argue',\n",
       "  'everywhere',\n",
       "  'with',\n",
       "  'this',\n",
       "  'blitz',\n",
       "  '?'],\n",
       " ['I',\n",
       "  'shout',\n",
       "  'questioningly',\n",
       "  'in',\n",
       "  'a',\n",
       "  'radiant',\n",
       "  'blaze',\n",
       "  'because',\n",
       "  'an',\n",
       "  'bright',\n",
       "  'velvet',\n",
       "  'blame',\n",
       "  'with',\n",
       "  'that',\n",
       "  'colorful',\n",
       "  'fracture',\n",
       "  'likely',\n",
       "  '!'],\n",
       " ['Our',\n",
       "  'laze',\n",
       "  'gradually',\n",
       "  'an',\n",
       "  'crunch',\n",
       "  'so',\n",
       "  'the',\n",
       "  'cocoon',\n",
       "  'bloom',\n",
       "  'clearly',\n",
       "  'those',\n",
       "  'silk',\n",
       "  'maybe',\n",
       "  '?'],\n",
       " ['Feather',\n",
       "  'soar',\n",
       "  'obviously',\n",
       "  'that',\n",
       "  'much',\n",
       "  'cocoon',\n",
       "  'questioningly',\n",
       "  'or',\n",
       "  'that',\n",
       "  'feather',\n",
       "  'laze',\n",
       "  '!'],\n",
       " ['This',\n",
       "  'cushion',\n",
       "  'bloom',\n",
       "  'without',\n",
       "  'an',\n",
       "  'cocoon',\n",
       "  'as',\n",
       "  'an',\n",
       "  'calm',\n",
       "  'smog',\n",
       "  'bloom',\n",
       "  'clearly',\n",
       "  'under',\n",
       "  'a',\n",
       "  'murmur',\n",
       "  '?'],\n",
       " ['Him',\n",
       "  'thrive',\n",
       "  'with',\n",
       "  'the',\n",
       "  'feather',\n",
       "  'and',\n",
       "  'these',\n",
       "  'fluff',\n",
       "  'grab',\n",
       "  'without',\n",
       "  'this',\n",
       "  'snarl',\n",
       "  '?'],\n",
       " ['An', 'dew', 'bask', 'shortly', 'on', 'the', 'quake', '.'],\n",
       " ['Cocoon',\n",
       "  'complain',\n",
       "  'in',\n",
       "  'these',\n",
       "  'colorful',\n",
       "  'velvet',\n",
       "  'or',\n",
       "  'harmony',\n",
       "  'storm',\n",
       "  'shortly',\n",
       "  'those',\n",
       "  'harmony',\n",
       "  '?'],\n",
       " ['Flare',\n",
       "  'soar',\n",
       "  'over',\n",
       "  'the',\n",
       "  'whisper',\n",
       "  'for',\n",
       "  'this',\n",
       "  'breeze',\n",
       "  'soar',\n",
       "  'in',\n",
       "  'those',\n",
       "  'feather',\n",
       "  'suddenly',\n",
       "  '?'],\n",
       " ['A',\n",
       "  'peaceful',\n",
       "  'fawn',\n",
       "  'storm',\n",
       "  'without',\n",
       "  'those',\n",
       "  'bright',\n",
       "  'hush',\n",
       "  'because',\n",
       "  'that',\n",
       "  'radiant',\n",
       "  'shatter',\n",
       "  'complain',\n",
       "  'surely',\n",
       "  'the',\n",
       "  'peaceful',\n",
       "  'clash',\n",
       "  '?'],\n",
       " ['This',\n",
       "  'colorful',\n",
       "  'flare',\n",
       "  'sparkle',\n",
       "  'the',\n",
       "  'fawn',\n",
       "  'eventually',\n",
       "  'so',\n",
       "  'me',\n",
       "  'blame',\n",
       "  '!'],\n",
       " ['These',\n",
       "  'some',\n",
       "  'fluff',\n",
       "  'sparkle',\n",
       "  'with',\n",
       "  'these',\n",
       "  'velvet',\n",
       "  'doubtfully',\n",
       "  'but',\n",
       "  'mine',\n",
       "  'hovers',\n",
       "  'there',\n",
       "  'under',\n",
       "  'the',\n",
       "  'hush',\n",
       "  '!'],\n",
       " ['Those',\n",
       "  'fawn',\n",
       "  'illuminates',\n",
       "  'shortly',\n",
       "  'those',\n",
       "  'fawn',\n",
       "  'obviously',\n",
       "  'but',\n",
       "  'they',\n",
       "  'bask',\n",
       "  'curiously',\n",
       "  'on',\n",
       "  'the',\n",
       "  'dew',\n",
       "  'there',\n",
       "  '!'],\n",
       " ['This',\n",
       "  'feather',\n",
       "  'bask',\n",
       "  'undoubtedly',\n",
       "  'over',\n",
       "  'those',\n",
       "  'radiant',\n",
       "  'cocoon',\n",
       "  'as',\n",
       "  'an',\n",
       "  'radiant',\n",
       "  'sigh',\n",
       "  'rest',\n",
       "  'a',\n",
       "  'hush',\n",
       "  'pensively',\n",
       "  '!'],\n",
       " ['This',\n",
       "  'mist',\n",
       "  'thrive',\n",
       "  'in',\n",
       "  'an',\n",
       "  'feather',\n",
       "  'and',\n",
       "  'that',\n",
       "  'cushion',\n",
       "  'soar',\n",
       "  'without',\n",
       "  'the',\n",
       "  'meadow',\n",
       "  'gradually',\n",
       "  '.'],\n",
       " ['An',\n",
       "  'dew',\n",
       "  'grumble',\n",
       "  'wonderingly',\n",
       "  'over',\n",
       "  'those',\n",
       "  'murmur',\n",
       "  'as',\n",
       "  'me',\n",
       "  'shout',\n",
       "  'shortly',\n",
       "  'on',\n",
       "  'a',\n",
       "  'whisper',\n",
       "  '?'],\n",
       " ['The',\n",
       "  'feather',\n",
       "  'bask',\n",
       "  'but',\n",
       "  'an',\n",
       "  'peaceful',\n",
       "  'velvet',\n",
       "  'illuminate',\n",
       "  'without',\n",
       "  'the',\n",
       "  'calm',\n",
       "  'smog',\n",
       "  'nowhere',\n",
       "  '.'],\n",
       " ['Ours', 'bask', 'over', 'the', 'hush', 'maybe', '!'],\n",
       " ['Those',\n",
       "  'colorful',\n",
       "  'jagged',\n",
       "  'hovers',\n",
       "  'curiously',\n",
       "  'since',\n",
       "  'mine',\n",
       "  'soar',\n",
       "  'this',\n",
       "  'some',\n",
       "  'velvet',\n",
       "  'curiously',\n",
       "  '?'],\n",
       " ['These',\n",
       "  'colorful',\n",
       "  'hush',\n",
       "  'bask',\n",
       "  'doubtfully',\n",
       "  'in',\n",
       "  'an',\n",
       "  'peaceful',\n",
       "  'hush',\n",
       "  'but',\n",
       "  'those',\n",
       "  'colorful',\n",
       "  'cocoon',\n",
       "  'complain',\n",
       "  'in',\n",
       "  'an',\n",
       "  'cushion',\n",
       "  'nowhere',\n",
       "  '!'],\n",
       " ['Whisper',\n",
       "  'hover',\n",
       "  'definitely',\n",
       "  'an',\n",
       "  'hush',\n",
       "  'curiously',\n",
       "  'but',\n",
       "  'those',\n",
       "  'cocoon',\n",
       "  'snarl',\n",
       "  'possibly',\n",
       "  'without',\n",
       "  'the',\n",
       "  'radiant',\n",
       "  'hush',\n",
       "  'pensively',\n",
       "  '?'],\n",
       " ['He',\n",
       "  'illuminate',\n",
       "  'in',\n",
       "  'these',\n",
       "  'screech',\n",
       "  'for',\n",
       "  'a',\n",
       "  'jagged',\n",
       "  'hover',\n",
       "  'obviously',\n",
       "  'on',\n",
       "  'those',\n",
       "  'whisper',\n",
       "  'definitely',\n",
       "  '!'],\n",
       " ['Our',\n",
       "  'illuminates',\n",
       "  'here',\n",
       "  'the',\n",
       "  'bright',\n",
       "  'murmur',\n",
       "  'shortly',\n",
       "  'for',\n",
       "  'a',\n",
       "  'serenity',\n",
       "  'sparkle',\n",
       "  'surely',\n",
       "  'over',\n",
       "  'a',\n",
       "  'radiant',\n",
       "  'lullaby',\n",
       "  '!'],\n",
       " ['That',\n",
       "  'bright',\n",
       "  'meadow',\n",
       "  'blame',\n",
       "  'as',\n",
       "  'harmony',\n",
       "  'blame',\n",
       "  'over',\n",
       "  'that',\n",
       "  'serenity',\n",
       "  '!'],\n",
       " ['That',\n",
       "  'bubble',\n",
       "  'rest',\n",
       "  'clearly',\n",
       "  'over',\n",
       "  'this',\n",
       "  'calm',\n",
       "  'silk',\n",
       "  'since',\n",
       "  'the',\n",
       "  'colorful',\n",
       "  'meadow',\n",
       "  'illuminate',\n",
       "  'there',\n",
       "  'on',\n",
       "  'an',\n",
       "  'cocoon',\n",
       "  '?'],\n",
       " ['A',\n",
       "  'rupture',\n",
       "  'grab',\n",
       "  'without',\n",
       "  'that',\n",
       "  'radiant',\n",
       "  'cushion',\n",
       "  'but',\n",
       "  'me',\n",
       "  'illuminate',\n",
       "  'presumably',\n",
       "  'without',\n",
       "  'those',\n",
       "  'colorful',\n",
       "  'mist',\n",
       "  'eventually',\n",
       "  '!'],\n",
       " ['Harmony',\n",
       "  'illuminate',\n",
       "  'possibly',\n",
       "  'in',\n",
       "  'those',\n",
       "  'cushion',\n",
       "  'shortly',\n",
       "  '!'],\n",
       " ['Our', 'hover', 'under', 'that', 'meadow', 'definitely', '?'],\n",
       " ['This',\n",
       "  'colorful',\n",
       "  'serenity',\n",
       "  'lazes',\n",
       "  'with',\n",
       "  'those',\n",
       "  'blaze',\n",
       "  'possibly',\n",
       "  'because',\n",
       "  'murmur',\n",
       "  'illuminate',\n",
       "  'obviously',\n",
       "  'without',\n",
       "  'those',\n",
       "  'gravel',\n",
       "  '!'],\n",
       " ['The',\n",
       "  'colorful',\n",
       "  'gravel',\n",
       "  'hovers',\n",
       "  'in',\n",
       "  'a',\n",
       "  'fawn',\n",
       "  'as',\n",
       "  'i',\n",
       "  'sparkle',\n",
       "  'nowhere',\n",
       "  '!'],\n",
       " ['Our',\n",
       "  'soar',\n",
       "  'over',\n",
       "  'these',\n",
       "  'bright',\n",
       "  'petal',\n",
       "  'but',\n",
       "  'a',\n",
       "  'calm',\n",
       "  'jagged',\n",
       "  'argue',\n",
       "  'on',\n",
       "  'a',\n",
       "  'radiant',\n",
       "  'clash',\n",
       "  'suddenly',\n",
       "  '!'],\n",
       " ['Blaze',\n",
       "  'hovers',\n",
       "  'without',\n",
       "  'those',\n",
       "  'bright',\n",
       "  'grit',\n",
       "  'obviously',\n",
       "  'because',\n",
       "  'whisper',\n",
       "  'rest',\n",
       "  'instantly',\n",
       "  'under',\n",
       "  'that',\n",
       "  'blitz',\n",
       "  '.'],\n",
       " ['I',\n",
       "  'sparkle',\n",
       "  'with',\n",
       "  'that',\n",
       "  'rupture',\n",
       "  'as',\n",
       "  'those',\n",
       "  'colorful',\n",
       "  'fracture',\n",
       "  'laze',\n",
       "  '?'],\n",
       " ['The',\n",
       "  'radiant',\n",
       "  'dew',\n",
       "  'soar',\n",
       "  'pensively',\n",
       "  'on',\n",
       "  'that',\n",
       "  'fluff',\n",
       "  'definitely',\n",
       "  'so',\n",
       "  'i',\n",
       "  'argue',\n",
       "  'maybe',\n",
       "  'under',\n",
       "  'these',\n",
       "  'meadow',\n",
       "  '?'],\n",
       " ['Your',\n",
       "  'hover',\n",
       "  'suddenly',\n",
       "  'that',\n",
       "  'harmony',\n",
       "  'there',\n",
       "  'but',\n",
       "  'this',\n",
       "  'grit',\n",
       "  'lazes',\n",
       "  '!'],\n",
       " ['That',\n",
       "  'blitz',\n",
       "  'hover',\n",
       "  'surely',\n",
       "  'in',\n",
       "  'that',\n",
       "  'harmony',\n",
       "  'since',\n",
       "  'those',\n",
       "  'radiant',\n",
       "  'dew',\n",
       "  'soars',\n",
       "  'likely',\n",
       "  'on',\n",
       "  'an',\n",
       "  'feather',\n",
       "  'arguably',\n",
       "  '.'],\n",
       " ['This',\n",
       "  'sigh',\n",
       "  'grab',\n",
       "  'over',\n",
       "  'those',\n",
       "  'bright',\n",
       "  'velvet',\n",
       "  'nowhere',\n",
       "  'since',\n",
       "  'an',\n",
       "  'whisper',\n",
       "  'shout',\n",
       "  '.'],\n",
       " ['I', 'thrive', 'on', 'a', 'screech', 'clearly', '?'],\n",
       " ['Smog', 'bask', 'with', 'this', 'cocoon', 'pensively', '?'],\n",
       " ['This',\n",
       "  'petal',\n",
       "  'laze',\n",
       "  'gradually',\n",
       "  'under',\n",
       "  'a',\n",
       "  'few',\n",
       "  'breeze',\n",
       "  'suddenly',\n",
       "  'since',\n",
       "  'this',\n",
       "  'bright',\n",
       "  'serenity',\n",
       "  'illuminate',\n",
       "  'with',\n",
       "  'a',\n",
       "  'peaceful',\n",
       "  'bubble',\n",
       "  'maybe',\n",
       "  '?']]"
      ]
     },
     "execution_count": 18,
     "metadata": {},
     "output_type": "execute_result"
    }
   ],
   "source": [
    "pos_sentences"
   ]
  },
  {
   "cell_type": "code",
   "execution_count": 19,
   "metadata": {
    "colab": {
     "base_uri": "https://localhost:8080/"
    },
    "id": "UikI-q7EmIdZ",
    "outputId": "c17a66ee-2b41-4968-a888-b7537c28f145",
    "scrolled": true
   },
   "outputs": [
    {
     "data": {
      "text/plain": [
       "[['Clash', 'argue', 'over', 'a', 'little', 'snarl', '.'],\n",
       " ['This', 'dew', 'laze', 'because', 'it', 'pause', '.'],\n",
       " ['These', 'blitz', 'grab', 'that', 'blaze', 'because', 'it', 'pause', '?'],\n",
       " ['Me', 'snarl', '!'],\n",
       " ['The', 'radiant', 'blitz', 'snarl', 'those', 'torrent', '.'],\n",
       " ['He', 'blame', 'those', 'flare', '.'],\n",
       " ['This', 'few', 'jolt', 'grab', '.'],\n",
       " ['Hers', 'blame', '?'],\n",
       " ['These',\n",
       "  'little',\n",
       "  'silk',\n",
       "  'smash',\n",
       "  'but',\n",
       "  'blitz',\n",
       "  'complain',\n",
       "  'those',\n",
       "  'colorful',\n",
       "  'flare',\n",
       "  '.'],\n",
       " ['Your', 'shout', '.'],\n",
       " ['This', 'some', 'bubble', 'argue', '!'],\n",
       " ['An', 'jolt', 'complain', 'because', 'clash', 'pause', '!'],\n",
       " ['Your', 'blame', '.'],\n",
       " ['This',\n",
       "  'blitz',\n",
       "  'shout',\n",
       "  'so',\n",
       "  'this',\n",
       "  'some',\n",
       "  'quake',\n",
       "  'push',\n",
       "  'an',\n",
       "  'torrent',\n",
       "  '.'],\n",
       " ['Your', 'complain', 'that', 'bright', 'clash', '.'],\n",
       " ['Their', 'storm', 'that', 'few', 'grit', '.'],\n",
       " ['That', 'radiant', 'gravel', 'bloom', '!'],\n",
       " ['Yours', 'hover', '.'],\n",
       " ['This', 'clash', 'storm', '.'],\n",
       " ['This', 'cushion', 'snarl', '.'],\n",
       " ['This', 'some', 'fracture', 'shout', '.'],\n",
       " ['A', 'sigh', 'storm', '.'],\n",
       " ['These', 'many', 'hush', 'bask', '.'],\n",
       " ['A', 'little', 'blaze', 'complain', '.'],\n",
       " ['This', 'rupture', 'grumble', '?'],\n",
       " ['Torrent', 'grab', '.'],\n",
       " ['A', 'bright', 'shatter', 'lazes', '?'],\n",
       " ['Her', 'thrive', 'that', 'shatter', '!'],\n",
       " ['He', 'grumble', '.'],\n",
       " ['Those', 'thorn', 'argue', '.'],\n",
       " ['These', 'many', 'snarl', 'grab', '.'],\n",
       " ['Those', 'blaze', 'smash', '.'],\n",
       " ['Those', 'quake', 'smash', '?'],\n",
       " ['It', 'soars', 'a', 'grit', '.'],\n",
       " ['Those', 'snarl', 'complain', '!'],\n",
       " ['A', 'cocoon', 'grumble', '.'],\n",
       " ['That', 'peaceful', 'meadow', 'hovers', '.'],\n",
       " ['Flare', 'illuminate', '.'],\n",
       " ['Yours', 'blame', '!'],\n",
       " ['Flare', 'grumble', '.'],\n",
       " ['Grit', 'push', '.'],\n",
       " ['The', 'much', 'clash', 'storm', '?'],\n",
       " ['Her', 'storm', 'the', 'much', 'jagged', '.'],\n",
       " ['Thorn', 'blame', 'this', 'little', 'flare', 'as', 'quake', 'storm', '.'],\n",
       " ['Splinter', 'bask', '.'],\n",
       " ['Your', 'sparkle', '.'],\n",
       " ['Those', 'clash', 'snarl', '.'],\n",
       " ['Its', 'snarl', '.'],\n",
       " ['A', 'thorn', 'argue', 'these', 'smog', '.'],\n",
       " ['Them', 'complain', '?']]"
      ]
     },
     "execution_count": 19,
     "metadata": {},
     "output_type": "execute_result"
    }
   ],
   "source": [
    "neg_sentences"
   ]
  },
  {
   "cell_type": "code",
   "execution_count": 20,
   "metadata": {
    "id": "vukAUUfNp1y-"
   },
   "outputs": [],
   "source": [
    "D_pos= []\n",
    "\n",
    "for i, sentence in enumerate(pos_sentences):\n",
    "\n",
    "  episode_pos = []\n",
    "\n",
    "  for j, word in enumerate(sentence[:-1]):\n",
    "\n",
    "\n",
    "    s = np.argmax(one_hot_encoding_dic[word_to_state(word)] )\n",
    "    a = np.argmax(one_hot_encoding_dic[word_to_state(sentence[j+1])] )\n",
    "    episode_pos.append((s, a, a))\n",
    "\n",
    "\n",
    "  D_pos.append(T.Trajectory(episode_pos))\n",
    "\n",
    "\n",
    "\n",
    "D_neg= []\n",
    "\n",
    "for i, sentence in enumerate(neg_sentences):\n",
    "\n",
    "  episode_neg = []\n",
    "\n",
    "  for j, word in enumerate(sentence[:-1]):\n",
    "\n",
    "    s = np.argmax(one_hot_encoding_dic[word_to_state(word)] )\n",
    "    a = np.argmax(one_hot_encoding_dic[word_to_state(sentence[j+1])] )\n",
    "    episode_neg.append((s, a, a))\n",
    "\n",
    "  D_neg.append(T.Trajectory(episode_neg))"
   ]
  },
  {
   "cell_type": "code",
   "execution_count": 21,
   "metadata": {
    "colab": {
     "base_uri": "https://localhost:8080/"
    },
    "id": "oVoFbrQin2oO",
    "outputId": "df8b1201-f5a0-4a8d-ec59-6c960e97536f",
    "scrolled": true
   },
   "outputs": [
    {
     "data": {
      "text/plain": [
       "[Trajectory([(19, 7, 7), (7, 12, 12), (12, 3, 3), (3, 18, 18), (18, 19, 19), (19, 7, 7), (7, 12, 12), (12, 20, 20), (20, 17, 17), (17, 3, 3), (3, 4, 4), (4, 19, 19), (19, 12, 12), (12, 14, 14)]),\n",
       " Trajectory([(19, 7, 7), (7, 12, 12), (12, 3, 3), (3, 18, 18), (18, 19, 19), (19, 7, 7), (7, 12, 12), (12, 6, 6), (6, 20, 20), (20, 15, 15), (15, 3, 3), (3, 4, 4), (4, 18, 18), (18, 19, 19), (19, 12, 12), (12, 14, 14)]),\n",
       " Trajectory([(16, 0, 0), (0, 18, 18), (18, 19, 19), (19, 7, 7), (7, 11, 11), (11, 20, 20), (20, 15, 15), (15, 0, 0), (0, 18, 18), (18, 19, 19), (19, 7, 7), (7, 12, 12), (12, 4, 4), (4, 14, 14)]),\n",
       " Trajectory([(11, 3, 3), (3, 18, 18), (18, 19, 19), (19, 7, 7), (7, 12, 12), (12, 9, 9), (9, 20, 20), (20, 19, 19), (19, 12, 12), (12, 2, 2), (2, 9, 9), (9, 18, 18), (18, 19, 19), (19, 7, 7), (7, 12, 12), (12, 14, 14)]),\n",
       " Trajectory([(19, 12, 12), (12, 3, 3), (3, 6, 6), (6, 18, 18), (18, 19, 19), (19, 7, 7), (7, 12, 12), (12, 20, 20), (20, 12, 12), (12, 3, 3), (3, 10, 10), (10, 18, 18), (18, 19, 19), (19, 12, 12), (12, 6, 6), (6, 14, 14)]),\n",
       " Trajectory([(19, 12, 12), (12, 3, 3), (3, 6, 6), (6, 18, 18), (18, 19, 19), (19, 7, 7), (7, 12, 12), (12, 5, 5), (5, 20, 20), (20, 19, 19), (19, 8, 8), (8, 12, 12), (12, 2, 2), (2, 10, 10), (10, 19, 19), (19, 12, 12), (12, 6, 6), (6, 14, 14)]),\n",
       " Trajectory([(19, 12, 12), (12, 2, 2), (2, 9, 9), (9, 18, 18), (18, 19, 19), (19, 12, 12), (12, 10, 10), (10, 20, 20), (20, 15, 15), (15, 1, 1), (1, 4, 4), (4, 18, 18), (18, 19, 19), (19, 12, 12), (12, 5, 5), (5, 14, 14)]),\n",
       " Trajectory([(19, 7, 7), (7, 12, 12), (12, 3, 3), (3, 20, 20), (20, 1, 1), (1, 3, 3), (3, 6, 6), (6, 18, 18), (18, 19, 19), (19, 7, 7), (7, 12, 12), (12, 6, 6), (6, 14, 14)]),\n",
       " Trajectory([(12, 1, 1), (1, 6, 6), (6, 18, 18), (18, 19, 19), (19, 12, 12), (12, 9, 9), (9, 20, 20), (20, 12, 12), (12, 0, 0), (0, 6, 6), (6, 18, 18), (18, 19, 19), (19, 12, 12), (12, 5, 5), (5, 14, 14)]),\n",
       " Trajectory([(12, 3, 3), (3, 9, 9), (9, 18, 18), (18, 19, 19), (19, 11, 11), (11, 5, 5), (5, 20, 20), (20, 19, 19), (19, 7, 7), (7, 12, 12), (12, 0, 0), (0, 10, 10), (10, 18, 18), (18, 19, 19), (19, 11, 11), (11, 14, 14)]),\n",
       " Trajectory([(19, 12, 12), (12, 3, 3), (3, 18, 18), (18, 19, 19), (19, 12, 12), (12, 20, 20), (20, 19, 19), (19, 11, 11), (11, 1, 1), (1, 5, 5), (5, 18, 18), (18, 19, 19), (19, 11, 11), (11, 14, 14)]),\n",
       " Trajectory([(15, 2, 2), (2, 6, 6), (6, 18, 18), (18, 19, 19), (19, 7, 7), (7, 11, 11), (11, 20, 20), (20, 19, 19), (19, 7, 7), (7, 12, 12), (12, 1, 1), (1, 18, 18), (18, 19, 19), (19, 7, 7), (7, 11, 11), (11, 10, 10), (10, 14, 14)]),\n",
       " Trajectory([(15, 3, 3), (3, 4, 4), (4, 19, 19), (19, 11, 11), (11, 20, 20), (20, 19, 19), (19, 12, 12), (12, 0, 0), (0, 9, 9), (9, 19, 19), (19, 12, 12), (12, 10, 10), (10, 14, 14)]),\n",
       " Trajectory([(12, 0, 0), (0, 9, 9), (9, 19, 19), (19, 8, 8), (8, 12, 12), (12, 6, 6), (6, 20, 20), (20, 19, 19), (19, 12, 12), (12, 3, 3), (3, 14, 14)]),\n",
       " Trajectory([(19, 12, 12), (12, 0, 0), (0, 18, 18), (18, 19, 19), (19, 12, 12), (12, 20, 20), (20, 19, 19), (19, 7, 7), (7, 11, 11), (11, 0, 0), (0, 9, 9), (9, 18, 18), (18, 19, 19), (19, 12, 12), (12, 14, 14)]),\n",
       " Trajectory([(17, 0, 0), (0, 18, 18), (18, 19, 19), (19, 12, 12), (12, 20, 20), (20, 19, 19), (19, 12, 12), (12, 2, 2), (2, 18, 18), (18, 19, 19), (19, 1, 1), (1, 14, 14)]),\n",
       " Trajectory([(19, 12, 12), (12, 3, 3), (3, 4, 4), (4, 18, 18), (18, 19, 19), (19, 11, 11), (11, 13, 13)]),\n",
       " Trajectory([(12, 1, 1), (1, 18, 18), (18, 19, 19), (19, 7, 7), (7, 12, 12), (12, 20, 20), (20, 12, 12), (12, 2, 2), (2, 4, 4), (4, 19, 19), (19, 12, 12), (12, 14, 14)]),\n",
       " Trajectory([(11, 0, 0), (0, 18, 18), (18, 19, 19), (19, 12, 12), (12, 20, 20), (20, 19, 19), (19, 12, 12), (12, 0, 0), (0, 18, 18), (18, 19, 19), (19, 12, 12), (12, 4, 4), (4, 14, 14)]),\n",
       " Trajectory([(19, 7, 7), (7, 12, 12), (12, 2, 2), (2, 18, 18), (18, 19, 19), (19, 7, 7), (7, 12, 12), (12, 20, 20), (20, 19, 19), (19, 7, 7), (7, 11, 11), (11, 1, 1), (1, 9, 9), (9, 19, 19), (19, 7, 7), (7, 11, 11), (11, 14, 14)]),\n",
       " Trajectory([(19, 7, 7), (7, 11, 11), (11, 0, 0), (0, 19, 19), (19, 12, 12), (12, 4, 4), (4, 20, 20), (20, 15, 15), (15, 1, 1), (1, 14, 14)]),\n",
       " Trajectory([(19, 8, 8), (8, 12, 12), (12, 0, 0), (0, 18, 18), (18, 19, 19), (19, 12, 12), (12, 6, 6), (6, 20, 20), (20, 15, 15), (15, 3, 3), (3, 5, 5), (5, 18, 18), (18, 19, 19), (19, 12, 12), (12, 14, 14)]),\n",
       " Trajectory([(19, 12, 12), (12, 0, 0), (0, 4, 4), (4, 19, 19), (19, 12, 12), (12, 9, 9), (9, 20, 20), (20, 17, 17), (17, 3, 3), (3, 6, 6), (6, 18, 18), (18, 19, 19), (19, 12, 12), (12, 5, 5), (5, 14, 14)]),\n",
       " Trajectory([(19, 12, 12), (12, 3, 3), (3, 9, 9), (9, 18, 18), (18, 19, 19), (19, 7, 7), (7, 12, 12), (12, 20, 20), (20, 19, 19), (19, 7, 7), (7, 12, 12), (12, 3, 3), (3, 19, 19), (19, 12, 12), (12, 6, 6), (6, 14, 14)]),\n",
       " Trajectory([(19, 12, 12), (12, 0, 0), (0, 18, 18), (18, 19, 19), (19, 12, 12), (12, 20, 20), (20, 19, 19), (19, 12, 12), (12, 0, 0), (0, 18, 18), (18, 19, 19), (19, 12, 12), (12, 4, 4), (4, 13, 13)]),\n",
       " Trajectory([(19, 12, 12), (12, 1, 1), (1, 6, 6), (6, 18, 18), (18, 19, 19), (19, 12, 12), (12, 20, 20), (20, 15, 15), (15, 2, 2), (2, 4, 4), (4, 18, 18), (18, 19, 19), (19, 12, 12), (12, 14, 14)]),\n",
       " Trajectory([(19, 12, 12), (12, 3, 3), (3, 20, 20), (20, 19, 19), (19, 7, 7), (7, 12, 12), (12, 0, 0), (0, 18, 18), (18, 19, 19), (19, 7, 7), (7, 11, 11), (11, 5, 5), (5, 13, 13)]),\n",
       " Trajectory([(15, 3, 3), (3, 18, 18), (18, 19, 19), (19, 12, 12), (12, 10, 10), (10, 14, 14)]),\n",
       " Trajectory([(19, 7, 7), (7, 11, 11), (11, 3, 3), (3, 6, 6), (6, 20, 20), (20, 15, 15), (15, 0, 0), (0, 19, 19), (19, 8, 8), (8, 12, 12), (12, 6, 6), (6, 14, 14)]),\n",
       " Trajectory([(19, 7, 7), (7, 12, 12), (12, 3, 3), (3, 6, 6), (6, 18, 18), (18, 19, 19), (19, 7, 7), (7, 12, 12), (12, 20, 20), (20, 19, 19), (19, 7, 7), (7, 12, 12), (12, 1, 1), (1, 18, 18), (18, 19, 19), (19, 12, 12), (12, 5, 5), (5, 14, 14)]),\n",
       " Trajectory([(12, 3, 3), (3, 9, 9), (9, 19, 19), (19, 12, 12), (12, 6, 6), (6, 20, 20), (20, 19, 19), (19, 12, 12), (12, 1, 1), (1, 10, 10), (10, 18, 18), (18, 19, 19), (19, 7, 7), (7, 12, 12), (12, 6, 6), (6, 14, 14)]),\n",
       " Trajectory([(17, 0, 0), (0, 18, 18), (18, 19, 19), (19, 11, 11), (11, 20, 20), (20, 19, 19), (19, 11, 11), (11, 3, 3), (3, 9, 9), (9, 18, 18), (18, 19, 19), (19, 12, 12), (12, 9, 9), (9, 14, 14)]),\n",
       " Trajectory([(15, 0, 0), (0, 5, 5), (5, 19, 19), (19, 7, 7), (7, 12, 12), (12, 4, 4), (4, 20, 20), (20, 19, 19), (19, 12, 12), (12, 0, 0), (0, 9, 9), (9, 18, 18), (18, 19, 19), (19, 7, 7), (7, 12, 12), (12, 14, 14)]),\n",
       " Trajectory([(19, 7, 7), (7, 12, 12), (12, 1, 1), (1, 20, 20), (20, 12, 12), (12, 1, 1), (1, 18, 18), (18, 19, 19), (19, 12, 12), (12, 14, 14)]),\n",
       " Trajectory([(19, 12, 12), (12, 3, 3), (3, 9, 9), (9, 18, 18), (18, 19, 19), (19, 7, 7), (7, 12, 12), (12, 20, 20), (20, 19, 19), (19, 7, 7), (7, 12, 12), (12, 0, 0), (0, 5, 5), (5, 18, 18), (18, 19, 19), (19, 12, 12), (12, 14, 14)]),\n",
       " Trajectory([(19, 11, 11), (11, 2, 2), (2, 18, 18), (18, 19, 19), (19, 7, 7), (7, 12, 12), (12, 20, 20), (20, 15, 15), (15, 0, 0), (0, 10, 10), (10, 18, 18), (18, 19, 19), (19, 7, 7), (7, 12, 12), (12, 4, 4), (4, 14, 14)]),\n",
       " Trajectory([(12, 0, 0), (0, 10, 10), (10, 18, 18), (18, 19, 19), (19, 12, 12), (12, 4, 4), (4, 14, 14)]),\n",
       " Trajectory([(15, 3, 3), (3, 18, 18), (18, 19, 19), (19, 12, 12), (12, 9, 9), (9, 14, 14)]),\n",
       " Trajectory([(19, 7, 7), (7, 12, 12), (12, 3, 3), (3, 18, 18), (18, 19, 19), (19, 11, 11), (11, 10, 10), (10, 20, 20), (20, 12, 12), (12, 0, 0), (0, 9, 9), (9, 18, 18), (18, 19, 19), (19, 11, 11), (11, 14, 14)]),\n",
       " Trajectory([(19, 7, 7), (7, 11, 11), (11, 3, 3), (3, 18, 18), (18, 19, 19), (19, 12, 12), (12, 20, 20), (20, 15, 15), (15, 0, 0), (0, 5, 5), (5, 14, 14)]),\n",
       " Trajectory([(15, 0, 0), (0, 18, 18), (18, 19, 19), (19, 7, 7), (7, 12, 12), (12, 20, 20), (20, 19, 19), (19, 7, 7), (7, 11, 11), (11, 1, 1), (1, 18, 18), (18, 19, 19), (19, 7, 7), (7, 11, 11), (11, 4, 4), (4, 14, 14)]),\n",
       " Trajectory([(11, 3, 3), (3, 18, 18), (18, 19, 19), (19, 7, 7), (7, 11, 11), (11, 9, 9), (9, 20, 20), (20, 12, 12), (12, 3, 3), (3, 4, 4), (4, 18, 18), (18, 19, 19), (19, 11, 11), (11, 13, 13)]),\n",
       " Trajectory([(15, 0, 0), (0, 18, 18), (18, 19, 19), (19, 11, 11), (11, 20, 20), (20, 19, 19), (19, 7, 7), (7, 11, 11), (11, 3, 3), (3, 14, 14)]),\n",
       " Trajectory([(19, 7, 7), (7, 12, 12), (12, 0, 0), (0, 6, 6), (6, 18, 18), (18, 19, 19), (19, 12, 12), (12, 9, 9), (9, 20, 20), (20, 15, 15), (15, 1, 1), (1, 10, 10), (10, 18, 18), (18, 19, 19), (19, 12, 12), (12, 14, 14)]),\n",
       " Trajectory([(16, 3, 3), (3, 4, 4), (4, 19, 19), (19, 12, 12), (12, 5, 5), (5, 20, 20), (20, 19, 19), (19, 11, 11), (11, 3, 3), (3, 14, 14)]),\n",
       " Trajectory([(19, 11, 11), (11, 3, 3), (3, 9, 9), (9, 18, 18), (18, 19, 19), (19, 12, 12), (12, 20, 20), (20, 19, 19), (19, 7, 7), (7, 12, 12), (12, 0, 0), (0, 10, 10), (10, 18, 18), (18, 19, 19), (19, 12, 12), (12, 10, 10), (10, 13, 13)]),\n",
       " Trajectory([(19, 12, 12), (12, 2, 2), (2, 18, 18), (18, 19, 19), (19, 7, 7), (7, 12, 12), (12, 5, 5), (5, 20, 20), (20, 19, 19), (19, 12, 12), (12, 2, 2), (2, 13, 13)]),\n",
       " Trajectory([(15, 0, 0), (0, 18, 18), (18, 19, 19), (19, 11, 11), (11, 9, 9), (9, 14, 14)]),\n",
       " Trajectory([(11, 3, 3), (3, 18, 18), (18, 19, 19), (19, 12, 12), (12, 6, 6), (6, 14, 14)]),\n",
       " Trajectory([(19, 12, 12), (12, 3, 3), (3, 4, 4), (4, 18, 18), (18, 19, 19), (19, 8, 8), (8, 12, 12), (12, 4, 4), (4, 20, 20), (20, 19, 19), (19, 7, 7), (7, 12, 12), (12, 0, 0), (0, 18, 18), (18, 19, 19), (19, 7, 7), (7, 12, 12), (12, 10, 10), (10, 14, 14)])]"
      ]
     },
     "execution_count": 21,
     "metadata": {},
     "output_type": "execute_result"
    }
   ],
   "source": [
    "D_pos"
   ]
  },
  {
   "cell_type": "code",
   "execution_count": 22,
   "metadata": {
    "colab": {
     "base_uri": "https://localhost:8080/"
    },
    "id": "vWgq4jbimWQp",
    "outputId": "4b403839-6dd6-4755-fdda-32a995d8c264",
    "scrolled": true
   },
   "outputs": [
    {
     "data": {
      "text/plain": [
       "[Trajectory([(11, 1, 1), (1, 18, 18), (18, 19, 19), (19, 8, 8), (8, 1, 1), (1, 13, 13)]),\n",
       " Trajectory([(19, 12, 12), (12, 3, 3), (3, 20, 20), (20, 17, 17), (17, 3, 3), (3, 13, 13)]),\n",
       " Trajectory([(19, 11, 11), (11, 2, 2), (2, 19, 19), (19, 11, 11), (11, 20, 20), (20, 17, 17), (17, 3, 3), (3, 14, 14)]),\n",
       " Trajectory([(15, 1, 1), (1, 14, 14)]),\n",
       " Trajectory([(19, 7, 7), (7, 11, 11), (11, 1, 1), (1, 19, 19), (19, 11, 11), (11, 13, 13)]),\n",
       " Trajectory([(17, 1, 1), (1, 19, 19), (19, 11, 11), (11, 13, 13)]),\n",
       " Trajectory([(19, 8, 8), (8, 11, 11), (11, 2, 2), (2, 13, 13)]),\n",
       " Trajectory([(17, 1, 1), (1, 14, 14)]),\n",
       " Trajectory([(19, 8, 8), (8, 12, 12), (12, 2, 2), (2, 20, 20), (20, 11, 11), (11, 1, 1), (1, 19, 19), (19, 7, 7), (7, 11, 11), (11, 13, 13)]),\n",
       " Trajectory([(16, 2, 2), (2, 13, 13)]),\n",
       " Trajectory([(19, 8, 8), (8, 12, 12), (12, 1, 1), (1, 14, 14)]),\n",
       " Trajectory([(19, 11, 11), (11, 1, 1), (1, 20, 20), (20, 11, 11), (11, 3, 3), (3, 14, 14)]),\n",
       " Trajectory([(16, 1, 1), (1, 13, 13)]),\n",
       " Trajectory([(19, 11, 11), (11, 2, 2), (2, 20, 20), (20, 19, 19), (19, 8, 8), (8, 11, 11), (11, 2, 2), (2, 19, 19), (19, 11, 11), (11, 13, 13)]),\n",
       " Trajectory([(16, 1, 1), (1, 19, 19), (19, 7, 7), (7, 11, 11), (11, 13, 13)]),\n",
       " Trajectory([(17, 2, 2), (2, 19, 19), (19, 8, 8), (8, 11, 11), (11, 13, 13)]),\n",
       " Trajectory([(19, 7, 7), (7, 11, 11), (11, 0, 0), (0, 14, 14)]),\n",
       " Trajectory([(16, 3, 3), (3, 13, 13)]),\n",
       " Trajectory([(19, 11, 11), (11, 2, 2), (2, 13, 13)]),\n",
       " Trajectory([(19, 12, 12), (12, 1, 1), (1, 13, 13)]),\n",
       " Trajectory([(19, 8, 8), (8, 11, 11), (11, 2, 2), (2, 13, 13)]),\n",
       " Trajectory([(19, 12, 12), (12, 2, 2), (2, 13, 13)]),\n",
       " Trajectory([(19, 8, 8), (8, 12, 12), (12, 3, 3), (3, 13, 13)]),\n",
       " Trajectory([(19, 8, 8), (8, 11, 11), (11, 1, 1), (1, 13, 13)]),\n",
       " Trajectory([(19, 11, 11), (11, 1, 1), (1, 14, 14)]),\n",
       " Trajectory([(11, 2, 2), (2, 13, 13)]),\n",
       " Trajectory([(19, 7, 7), (7, 11, 11), (11, 3, 3), (3, 14, 14)]),\n",
       " Trajectory([(17, 0, 0), (0, 19, 19), (19, 11, 11), (11, 14, 14)]),\n",
       " Trajectory([(17, 1, 1), (1, 13, 13)]),\n",
       " Trajectory([(19, 11, 11), (11, 1, 1), (1, 13, 13)]),\n",
       " Trajectory([(19, 8, 8), (8, 1, 1), (1, 2, 2), (2, 13, 13)]),\n",
       " Trajectory([(19, 11, 11), (11, 2, 2), (2, 13, 13)]),\n",
       " Trajectory([(19, 11, 11), (11, 2, 2), (2, 14, 14)]),\n",
       " Trajectory([(17, 0, 0), (0, 19, 19), (19, 11, 11), (11, 13, 13)]),\n",
       " Trajectory([(19, 1, 1), (1, 1, 1), (1, 14, 14)]),\n",
       " Trajectory([(19, 12, 12), (12, 1, 1), (1, 13, 13)]),\n",
       " Trajectory([(19, 7, 7), (7, 12, 12), (12, 3, 3), (3, 13, 13)]),\n",
       " Trajectory([(11, 0, 0), (0, 13, 13)]),\n",
       " Trajectory([(16, 1, 1), (1, 14, 14)]),\n",
       " Trajectory([(11, 1, 1), (1, 13, 13)]),\n",
       " Trajectory([(11, 2, 2), (2, 13, 13)]),\n",
       " Trajectory([(19, 8, 8), (8, 11, 11), (11, 2, 2), (2, 14, 14)]),\n",
       " Trajectory([(17, 2, 2), (2, 19, 19), (19, 8, 8), (8, 11, 11), (11, 13, 13)]),\n",
       " Trajectory([(11, 1, 1), (1, 19, 19), (19, 8, 8), (8, 11, 11), (11, 20, 20), (20, 11, 11), (11, 2, 2), (2, 13, 13)]),\n",
       " Trajectory([(11, 3, 3), (3, 13, 13)]),\n",
       " Trajectory([(16, 0, 0), (0, 13, 13)]),\n",
       " Trajectory([(19, 11, 11), (11, 1, 1), (1, 13, 13)]),\n",
       " Trajectory([(17, 1, 1), (1, 13, 13)]),\n",
       " Trajectory([(19, 11, 11), (11, 1, 1), (1, 19, 19), (19, 11, 11), (11, 13, 13)]),\n",
       " Trajectory([(17, 1, 1), (1, 14, 14)])]"
      ]
     },
     "execution_count": 22,
     "metadata": {},
     "output_type": "execute_result"
    }
   ],
   "source": [
    "D_neg"
   ]
  },
  {
   "cell_type": "code",
   "execution_count": 23,
   "metadata": {
    "colab": {
     "base_uri": "https://localhost:8080/"
    },
    "id": "I7mDhU3zn2l7",
    "outputId": "b469c3b8-8b7b-40be-8b2d-97f4bb6e996b",
    "scrolled": true
   },
   "outputs": [
    {
     "data": {
      "text/plain": [
       "array([[1., 0., 0., 0., 0., 0., 0., 0., 0., 0., 0., 0., 0., 0., 0., 0.,\n",
       "        0., 0., 0., 0., 0.],\n",
       "       [0., 1., 0., 0., 0., 0., 0., 0., 0., 0., 0., 0., 0., 0., 0., 0.,\n",
       "        0., 0., 0., 0., 0.],\n",
       "       [0., 0., 1., 0., 0., 0., 0., 0., 0., 0., 0., 0., 0., 0., 0., 0.,\n",
       "        0., 0., 0., 0., 0.],\n",
       "       [0., 0., 0., 1., 0., 0., 0., 0., 0., 0., 0., 0., 0., 0., 0., 0.,\n",
       "        0., 0., 0., 0., 0.],\n",
       "       [0., 0., 0., 0., 1., 0., 0., 0., 0., 0., 0., 0., 0., 0., 0., 0.,\n",
       "        0., 0., 0., 0., 0.],\n",
       "       [0., 0., 0., 0., 0., 1., 0., 0., 0., 0., 0., 0., 0., 0., 0., 0.,\n",
       "        0., 0., 0., 0., 0.],\n",
       "       [0., 0., 0., 0., 0., 0., 1., 0., 0., 0., 0., 0., 0., 0., 0., 0.,\n",
       "        0., 0., 0., 0., 0.],\n",
       "       [0., 0., 0., 0., 0., 0., 0., 1., 0., 0., 0., 0., 0., 0., 0., 0.,\n",
       "        0., 0., 0., 0., 0.],\n",
       "       [0., 0., 0., 0., 0., 0., 0., 0., 1., 0., 0., 0., 0., 0., 0., 0.,\n",
       "        0., 0., 0., 0., 0.],\n",
       "       [0., 0., 0., 0., 0., 0., 0., 0., 0., 1., 0., 0., 0., 0., 0., 0.,\n",
       "        0., 0., 0., 0., 0.],\n",
       "       [0., 0., 0., 0., 0., 0., 0., 0., 0., 0., 1., 0., 0., 0., 0., 0.,\n",
       "        0., 0., 0., 0., 0.],\n",
       "       [0., 0., 0., 0., 0., 0., 0., 0., 0., 0., 0., 1., 0., 0., 0., 0.,\n",
       "        0., 0., 0., 0., 0.],\n",
       "       [0., 0., 0., 0., 0., 0., 0., 0., 0., 0., 0., 0., 1., 0., 0., 0.,\n",
       "        0., 0., 0., 0., 0.],\n",
       "       [0., 0., 0., 0., 0., 0., 0., 0., 0., 0., 0., 0., 0., 1., 0., 0.,\n",
       "        0., 0., 0., 0., 0.],\n",
       "       [0., 0., 0., 0., 0., 0., 0., 0., 0., 0., 0., 0., 0., 0., 1., 0.,\n",
       "        0., 0., 0., 0., 0.],\n",
       "       [0., 0., 0., 0., 0., 0., 0., 0., 0., 0., 0., 0., 0., 0., 0., 1.,\n",
       "        0., 0., 0., 0., 0.],\n",
       "       [0., 0., 0., 0., 0., 0., 0., 0., 0., 0., 0., 0., 0., 0., 0., 0.,\n",
       "        1., 0., 0., 0., 0.],\n",
       "       [0., 0., 0., 0., 0., 0., 0., 0., 0., 0., 0., 0., 0., 0., 0., 0.,\n",
       "        0., 1., 0., 0., 0.],\n",
       "       [0., 0., 0., 0., 0., 0., 0., 0., 0., 0., 0., 0., 0., 0., 0., 0.,\n",
       "        0., 0., 1., 0., 0.],\n",
       "       [0., 0., 0., 0., 0., 0., 0., 0., 0., 0., 0., 0., 0., 0., 0., 0.,\n",
       "        0., 0., 0., 1., 0.],\n",
       "       [0., 0., 0., 0., 0., 0., 0., 0., 0., 0., 0., 0., 0., 0., 0., 0.,\n",
       "        0., 0., 0., 0., 1.]])"
      ]
     },
     "execution_count": 23,
     "metadata": {},
     "output_type": "execute_result"
    }
   ],
   "source": [
    "states_one_hot"
   ]
  },
  {
   "cell_type": "code",
   "execution_count": 24,
   "metadata": {
    "id": "vkBvcaC1y2n0"
   },
   "outputs": [],
   "source": [
    "terminal_pos = []\n",
    "\n",
    "for traj in D_pos:\n",
    "  terminal_pos.append(traj._t[-1][-1])\n",
    "\n",
    "terminal_pos = list(set(terminal_pos))"
   ]
  },
  {
   "cell_type": "code",
   "execution_count": 25,
   "metadata": {
    "id": "p-MhYikBnTB2"
   },
   "outputs": [],
   "source": [
    "terminal_neg = []\n",
    "\n",
    "for traj in D_neg:\n",
    "  terminal_neg.append(traj._t[-1][-1])\n",
    "\n",
    "terminal_neg = list(set(terminal_neg))"
   ]
  },
  {
   "cell_type": "code",
   "execution_count": 26,
   "metadata": {
    "colab": {
     "base_uri": "https://localhost:8080/"
    },
    "id": "XWKJq12Qy2l8",
    "outputId": "ae2a1114-7699-4a56-ce35-376fa1a18f7d"
   },
   "outputs": [
    {
     "data": {
      "text/plain": [
       "[13, 14]"
      ]
     },
     "execution_count": 26,
     "metadata": {},
     "output_type": "execute_result"
    }
   ],
   "source": [
    "terminal_pos"
   ]
  },
  {
   "cell_type": "code",
   "execution_count": 27,
   "metadata": {
    "colab": {
     "base_uri": "https://localhost:8080/"
    },
    "id": "vOxg-5H_nYUj",
    "outputId": "9178da1f-5f71-43e2-b615-54d055624f57"
   },
   "outputs": [
    {
     "data": {
      "text/plain": [
       "[13, 14]"
      ]
     },
     "execution_count": 27,
     "metadata": {},
     "output_type": "execute_result"
    }
   ],
   "source": [
    "terminal_neg"
   ]
  },
  {
   "cell_type": "code",
   "execution_count": 28,
   "metadata": {
    "colab": {
     "base_uri": "https://localhost:8080/"
    },
    "id": "mX7jn6UvFtfe",
    "outputId": "231277ba-d7b5-4ac2-9e64-dc8c091bb768"
   },
   "outputs": [
    {
     "data": {
      "text/plain": [
       "{'Verb_positive': 0,\n",
       " 'Verb_negative': 1,\n",
       " 'Verb_action': 2,\n",
       " 'Verb_inaction': 3,\n",
       " 'Adverb_time': 4,\n",
       " 'Adverb_place': 5,\n",
       " 'Adverb_interrogative': 6,\n",
       " 'Adj_descriptive': 7,\n",
       " 'Adj_quantitative': 8,\n",
       " 'Adverb_certain': 9,\n",
       " 'Adverb_uncertain': 10,\n",
       " 'Noun_harsh': 11,\n",
       " 'Noun_soft': 12,\n",
       " 'Ponct_n': 13,\n",
       " 'Ponct_e': 14,\n",
       " 'P_1st': 15,\n",
       " 'P_2nd': 16,\n",
       " 'P_3rd': 17,\n",
       " 'Prep': 18,\n",
       " 'Det': 19,\n",
       " 'Conjunction': 20}"
      ]
     },
     "execution_count": 28,
     "metadata": {},
     "output_type": "execute_result"
    }
   ],
   "source": [
    "state_number_dic"
   ]
  },
  {
   "cell_type": "code",
   "execution_count": 29,
   "metadata": {
    "colab": {
     "base_uri": "https://localhost:8080/"
    },
    "id": "8mxNI7AOGApW",
    "outputId": "bc18e592-168d-44ec-b9f5-b65d20b6bb3d"
   },
   "outputs": [
    {
     "data": {
      "text/plain": [
       "['Verb_positive',\n",
       " 'Verb_negative',\n",
       " 'Verb_action',\n",
       " 'Verb_inaction',\n",
       " 'Adverb_time',\n",
       " 'Adverb_place',\n",
       " 'Adverb_interrogative',\n",
       " 'Adj_descriptive',\n",
       " 'Adj_quantitative',\n",
       " 'Adverb_certain',\n",
       " 'Adverb_uncertain',\n",
       " 'Noun_harsh',\n",
       " 'Noun_soft',\n",
       " 'Ponct_n',\n",
       " 'Ponct_e',\n",
       " 'P_1st',\n",
       " 'P_2nd',\n",
       " 'P_3rd',\n",
       " 'Prep',\n",
       " 'Det',\n",
       " 'Conjunction']"
      ]
     },
     "execution_count": 29,
     "metadata": {},
     "output_type": "execute_result"
    }
   ],
   "source": [
    "states"
   ]
  },
  {
   "cell_type": "code",
   "execution_count": 30,
   "metadata": {
    "colab": {
     "base_uri": "https://localhost:8080/"
    },
    "id": "WxnpRr1Xy2jW",
    "outputId": "00a5ea70-726e-462b-a5f2-8bbcec347aa9"
   },
   "outputs": [
    {
     "data": {
      "text/plain": [
       "(21, 21, 21)"
      ]
     },
     "execution_count": 30,
     "metadata": {},
     "output_type": "execute_result"
    }
   ],
   "source": [
    "num_state = states_one_hot.shape[0]\n",
    "\n",
    "transition = np.zeros((len(states), len(states), len(states)))\n",
    "\n",
    "for i in range(num_state):\n",
    "    transition[:, i, i] = 1\n",
    "\n",
    "transition.shape"
   ]
  },
  {
   "cell_type": "code",
   "execution_count": null,
   "metadata": {
    "id": "krbDlxLHy2hD"
   },
   "outputs": [],
   "source": [
    "init_pos = O.Constant(1.0)\n",
    "optim_pos = O.ExpSga(lr=O.linear_decay(lr0=0.1))\n",
    "\n",
    "\n",
    "init_neg = O.Constant(1.0)\n",
    "optim_neg = O.ExpSga(lr=O.linear_decay(lr0=0.1))\n",
    "\n",
    "\n",
    "reward_maxent_pos = irl(transition, states_one_hot, terminal_pos, D_pos, optim_pos, init_pos)\n",
    "reward_maxent_neg = irl(transition, states_one_hot, terminal_neg, D_neg, optim_neg, init_neg)"
   ]
  },
  {
   "cell_type": "code",
   "execution_count": null,
   "metadata": {
    "colab": {
     "base_uri": "https://localhost:8080/"
    },
    "id": "yclrr3gW4Jth",
    "outputId": "0f71e5bd-04b1-488b-af2e-d87ac5135708"
   },
   "outputs": [],
   "source": [
    "reward_maxent_pos"
   ]
  },
  {
   "cell_type": "code",
   "execution_count": null,
   "metadata": {
    "colab": {
     "base_uri": "https://localhost:8080/"
    },
    "id": "pS7T0GLAn7QC",
    "outputId": "7eb97ef2-29d0-4dc9-bcf5-2422c1a2cfbf"
   },
   "outputs": [],
   "source": [
    "reward_maxent_neg"
   ]
  },
  {
   "cell_type": "code",
   "execution_count": 255,
   "metadata": {
    "colab": {
     "base_uri": "https://localhost:8080/"
    },
    "id": "GmJKFGzMn7Ml",
    "outputId": "60ca04af-82f8-4f0e-8205-8ac7f1eee78c"
   },
   "outputs": [
    {
     "data": {
      "text/plain": [
       "['Verb_positive',\n",
       " 'Verb_negative',\n",
       " 'Verb_action',\n",
       " 'Verb_inaction',\n",
       " 'Adverb_time',\n",
       " 'Adverb_place',\n",
       " 'Adverb_interrogative',\n",
       " 'Adj_descriptive',\n",
       " 'Adj_quantitative',\n",
       " 'Adverb_certain',\n",
       " 'Adverb_uncertain',\n",
       " 'Noun_harsh',\n",
       " 'Noun_soft',\n",
       " 'Ponct_n',\n",
       " 'Ponct_e',\n",
       " 'P_1st',\n",
       " 'P_2nd',\n",
       " 'P_3rd',\n",
       " 'Prep',\n",
       " 'Det',\n",
       " 'Conjunction']"
      ]
     },
     "execution_count": 255,
     "metadata": {},
     "output_type": "execute_result"
    }
   ],
   "source": [
    "states"
   ]
  },
  {
   "cell_type": "code",
   "execution_count": 259,
   "metadata": {
    "colab": {
     "base_uri": "https://localhost:8080/",
     "height": 543
    },
    "id": "0JOO_r6vDbQe",
    "outputId": "957ab76a-55a1-4830-ab30-6781815d4808"
   },
   "outputs": [
    {
     "data": {
      "image/png": "[encoded data removed]",
      "text/plain": [
       "<Figure size 1500x400 with 2 Axes>"
      ]
     },
     "metadata": {},
     "output_type": "display_data"
    }
   ],
   "source": [
    "import matplotlib.pyplot as plt\n",
    "\n",
    "\n",
    "size_text = 15\n",
    "\n",
    "\n",
    "# Example list of state names (replace with your actual list of state names)\n",
    "state_names = states\n",
    "\n",
    "rewards = np.array([reward_maxent_pos, reward_maxent_neg])\n",
    "\n",
    "\n",
    "# Creating the heatmap\n",
    "plt.figure(figsize=(15, 4))  # Adjusted figure size for better readability\n",
    "plt.imshow(rewards, cmap='viridis', aspect='auto')\n",
    "plt.colorbar(label='Reward')\n",
    "\n",
    "# Adding labels and title\n",
    "plt.title('Heatmap of Two Reward Functions with State Names', fontsize = size_text)\n",
    "# plt.xlabel('States', fontsize = size_text)\n",
    "# plt.ylabel('Reward Function', fontsize = size_text)\n",
    "plt.yticks([0, 1], ['Poet 1', 'Poet 2'], fontsize = size_text)\n",
    "plt.xticks(np.arange(len(states)), labels=state_names, rotation=80, fontsize = size_text)  # Rotate for readability\n",
    "\n",
    "plt.show()\n",
    "\n"
   ]
  },
  {
   "cell_type": "code",
   "execution_count": 257,
   "metadata": {
    "colab": {
     "base_uri": "https://localhost:8080/",
     "height": 17
    },
    "id": "h7hDwIxsDbNl",
    "outputId": "8779eba7-8e51-4f39-c246-0f5aa865ba60"
   },
   "outputs": [
    {
     "ename": "ModuleNotFoundError",
     "evalue": "No module named 'google'",
     "output_type": "error",
     "traceback": [
      "\u001b[0;31m---------------------------------------------------------------------------\u001b[0m",
      "\u001b[0;31mModuleNotFoundError\u001b[0m                       Traceback (most recent call last)",
      "Cell \u001b[0;32mIn[257], line 1\u001b[0m\n\u001b[0;32m----> 1\u001b[0m \u001b[38;5;28;01mfrom\u001b[39;00m \u001b[38;5;21;01mgoogle\u001b[39;00m\u001b[38;5;21;01m.\u001b[39;00m\u001b[38;5;21;01mcolab\u001b[39;00m \u001b[38;5;28;01mimport\u001b[39;00m files\n\u001b[1;32m      2\u001b[0m files\u001b[38;5;241m.\u001b[39mdownload(\u001b[38;5;124m'\u001b[39m\u001b[38;5;124mmy_plot.png\u001b[39m\u001b[38;5;124m'\u001b[39m)\n",
      "\u001b[0;31mModuleNotFoundError\u001b[0m: No module named 'google'"
     ]
    }
   ],
   "source": [
    "from google.colab import files\n",
    "files.download('my_plot.png')\n"
   ]
  },
  {
   "cell_type": "code",
   "execution_count": null,
   "metadata": {
    "id": "kYFdX6NvDbKS"
   },
   "outputs": [],
   "source": []
  },
  {
   "cell_type": "code",
   "execution_count": null,
   "metadata": {
    "id": "EReSL3o8DbHH"
   },
   "outputs": [],
   "source": []
  },
  {
   "cell_type": "code",
   "execution_count": null,
   "metadata": {
    "id": "HDNtkVPbDbEa"
   },
   "outputs": [],
   "source": []
  },
  {
   "cell_type": "code",
   "execution_count": null,
   "metadata": {
    "id": "-Gd2AtpUDbBW"
   },
   "outputs": [],
   "source": []
  },
  {
   "cell_type": "code",
   "execution_count": null,
   "metadata": {
    "id": "m2qXbRXTDa-S"
   },
   "outputs": [],
   "source": []
  },
  {
   "cell_type": "code",
   "execution_count": null,
   "metadata": {
    "colab": {
     "base_uri": "https://localhost:8080/"
    },
    "id": "WlB9enWq4Jrb",
    "outputId": "d426c11c-c860-43ac-a287-b3f8b98a72c3"
   },
   "outputs": [],
   "source": [
    "#Corresponding states of the reward function\n",
    "state_number_dic"
   ]
  },
  {
   "cell_type": "markdown",
   "metadata": {
    "id": "xWEAYHSYMBQZ"
   },
   "source": []
  },
  {
   "cell_type": "code",
   "execution_count": null,
   "metadata": {
    "id": "keSjX5E3MBMi"
   },
   "outputs": [],
   "source": []
  },
  {
   "cell_type": "code",
   "execution_count": null,
   "metadata": {
    "id": "GZyMqWAIMBJS"
   },
   "outputs": [],
   "source": []
  },
  {
   "cell_type": "code",
   "execution_count": null,
   "metadata": {
    "id": "t01tPMX5MBF9"
   },
   "outputs": [],
   "source": []
  },
  {
   "cell_type": "code",
   "execution_count": null,
   "metadata": {
    "id": "glBLnnFGMBCj"
   },
   "outputs": [],
   "source": []
  },
  {
   "cell_type": "code",
   "execution_count": null,
   "metadata": {
    "id": "nfwd53GXMA_d"
   },
   "outputs": [],
   "source": []
  },
  {
   "cell_type": "code",
   "execution_count": null,
   "metadata": {
    "id": "ItjMakaZMA8e"
   },
   "outputs": [],
   "source": []
  },
  {
   "cell_type": "code",
   "execution_count": null,
   "metadata": {
    "id": "GONxa-ANMA49"
   },
   "outputs": [],
   "source": []
  },
  {
   "cell_type": "code",
   "execution_count": null,
   "metadata": {
    "id": "sbYsot0UMA1L"
   },
   "outputs": [],
   "source": [
    "#"
   ]
  },
  {
   "cell_type": "code",
   "execution_count": null,
   "metadata": {
    "id": "-_KX2jLYMAxv"
   },
   "outputs": [],
   "source": []
  },
  {
   "cell_type": "code",
   "execution_count": null,
   "metadata": {
    "id": "wny6_lhKMAub"
   },
   "outputs": [],
   "source": []
  },
  {
   "cell_type": "code",
   "execution_count": null,
   "metadata": {
    "id": "B9-QjEo7MArP"
   },
   "outputs": [],
   "source": []
  },
  {
   "cell_type": "code",
   "execution_count": null,
   "metadata": {
    "id": "hFwBPqqmMAn2"
   },
   "outputs": [],
   "source": []
  },
  {
   "cell_type": "code",
   "execution_count": null,
   "metadata": {
    "id": "hOTJJui8MAkQ"
   },
   "outputs": [],
   "source": []
  },
  {
   "cell_type": "code",
   "execution_count": null,
   "metadata": {
    "id": "vLuZq3FnMAgg"
   },
   "outputs": [],
   "source": []
  },
  {
   "cell_type": "code",
   "execution_count": null,
   "metadata": {
    "id": "rxU6WdMwMAdY"
   },
   "outputs": [],
   "source": []
  },
  {
   "cell_type": "code",
   "execution_count": null,
   "metadata": {
    "id": "0YYRuzlWMAaQ"
   },
   "outputs": [],
   "source": []
  },
  {
   "cell_type": "code",
   "execution_count": null,
   "metadata": {
    "id": "ZSn5D8xAMAXb"
   },
   "outputs": [],
   "source": []
  },
  {
   "cell_type": "code",
   "execution_count": null,
   "metadata": {
    "id": "qUpXjPBlMAUm"
   },
   "outputs": [],
   "source": []
  },
  {
   "cell_type": "code",
   "execution_count": null,
   "metadata": {
    "id": "_0Pp19qvMAR0"
   },
   "outputs": [],
   "source": []
  },
  {
   "cell_type": "code",
   "execution_count": null,
   "metadata": {
    "id": "UISDzYYhMAOK"
   },
   "outputs": [],
   "source": []
  },
  {
   "cell_type": "code",
   "execution_count": null,
   "metadata": {
    "id": "5J0RlRTIMAKk"
   },
   "outputs": [],
   "source": []
  },
  {
   "cell_type": "code",
   "execution_count": null,
   "metadata": {
    "id": "82onGyTAMAG6"
   },
   "outputs": [],
   "source": []
  },
  {
   "cell_type": "code",
   "execution_count": null,
   "metadata": {
    "id": "8TBXReVcMADh"
   },
   "outputs": [],
   "source": []
  },
  {
   "cell_type": "code",
   "execution_count": null,
   "metadata": {
    "id": "X5srLJN8L_-Y"
   },
   "outputs": [],
   "source": []
  },
  {
   "cell_type": "code",
   "execution_count": null,
   "metadata": {
    "id": "MAYLDSt_L_6m"
   },
   "outputs": [],
   "source": []
  },
  {
   "cell_type": "code",
   "execution_count": null,
   "metadata": {
    "id": "cQgJeUBjL_3U"
   },
   "outputs": [],
   "source": []
  },
  {
   "cell_type": "code",
   "execution_count": null,
   "metadata": {
    "id": "QQL0__8CL_z5"
   },
   "outputs": [],
   "source": []
  },
  {
   "cell_type": "code",
   "execution_count": null,
   "metadata": {
    "id": "OzoGuDOLL_ws"
   },
   "outputs": [],
   "source": []
  },
  {
   "cell_type": "code",
   "execution_count": null,
   "metadata": {
    "id": "hE5Z98ADL_th"
   },
   "outputs": [],
   "source": []
  },
  {
   "cell_type": "code",
   "execution_count": null,
   "metadata": {
    "id": "43ioHoZjL_qO"
   },
   "outputs": [],
   "source": []
  },
  {
   "cell_type": "code",
   "execution_count": null,
   "metadata": {
    "id": "13yn4p17L_nD"
   },
   "outputs": [],
   "source": []
  },
  {
   "cell_type": "code",
   "execution_count": null,
   "metadata": {
    "id": "ODTKDED6L_kA"
   },
   "outputs": [],
   "source": []
  },
  {
   "cell_type": "code",
   "execution_count": null,
   "metadata": {
    "id": "l-vwud_kL_f-"
   },
   "outputs": [],
   "source": []
  },
  {
   "cell_type": "markdown",
   "metadata": {
    "id": "t6BpKyG3izTW"
   },
   "source": [
    "# Keep playing with those two cells to generate any sentence according to the CFG"
   ]
  },
  {
   "cell_type": "code",
   "execution_count": null,
   "metadata": {
    "id": "l_cLNdLIjmNd"
   },
   "outputs": [],
   "source": [
    "from typing import Dict, List, Union\n",
    "import random\n",
    "\n",
    "class CFG_1:\n",
    "    def __init__(self, rules: Dict[str, List[Union[str, List[str]]]], terminals: Dict[str, List[str]]):\n",
    "        self.rules = rules\n",
    "        self.terminals = terminals\n",
    "\n",
    "    def generate(self, symbol: str) -> str:\n",
    "        if symbol in self.rules:\n",
    "\n",
    "\n",
    "            production = random.choice(self.rules[symbol])\n",
    "            return ' '.join(self.generate(sym) for sym in production).capitalize()\n",
    "        elif symbol in self.terminals:\n",
    "            return random.choice(self.terminals[symbol])\n",
    "        else:\n",
    "            return symbol\n",
    "\n",
    "\n",
    "\n",
    "\n",
    "class CFG_2:\n",
    "    def __init__(self, rules: Dict[str, List[Union[str, List[str]]]], terminals: Dict[str, List[str]]):\n",
    "        self.rules = rules\n",
    "        self.terminals = terminals\n",
    "\n",
    "    def generate(self, symbol: str) -> str:\n",
    "        if symbol in self.rules:\n",
    "\n",
    "\n",
    "            production = random.choice(self.rules[symbol])\n",
    "            return ' '.join(self.generate(sym) for sym in production).capitalize()\n",
    "        elif symbol in self.terminals:\n",
    "            return random.choice(self.terminals[symbol])\n",
    "        else:\n",
    "            return symbol\n",
    "\n",
    "\n",
    "\n",
    "\n",
    "cfg_rules = {\n",
    "    \"Sentence\": [[\"Simple_2\"], [\"Compound\"]],\n",
    "    \"Compound\": [[\"Simple_1\", \"Conjunction\", \"Simple_2\"]],\n",
    "    \"Simple_1\": [\n",
    "        [\"Sub\", \"VP\"],\n",
    "        [\"Sub\", \"VP\", \"Object\"],\n",
    "        [\"Sub\", \"VP\", \"Object\", \"Adverb\"]\n",
    "    ],\n",
    "\n",
    "    \"Simple_2\": [\n",
    "        [\"Sub\", \"VP\", \"Ponctuation\"],\n",
    "        [\"Sub\", \"VP\", \"Object\", \"Ponctuation\"],\n",
    "        [\"Sub\", \"VP\", \"Object\", \"Adverb\", \"Ponctuation\"]\n",
    "    ],\n",
    "    \"Sub\": [[\"Pronoun\"], [\"Noun\"], [\"Det\", \"Noun\"], [\"Det\", \"Adj\", \"Noun\"]],\n",
    "    \"VP\": [[\"Verb\"], [\"Verb\", \"Adverb\"]],\n",
    "    \"Object\": [\n",
    "        [\"Det\", \"Noun\"],\n",
    "        [\"Det\", \"Adj\", \"Noun\"],\n",
    "        [\"Prep\", \"Det\", \"Noun\"],\n",
    "        [\"Prep\", \"Det\", \"Adj\", \"Noun\"]\n",
    "    ],\n",
    "    \"Noun\": [[\"Noun_soft\"], [\"Noun_harsh\"]],\n",
    "    \"Adj\": [[\"Adj_descriptive\"], [\"Adj_quantitative\"]],\n",
    "    \"Pronoun\": [[\"P_1st\"], [\"P_2nd\"], [\"P_3rd\"]],\n",
    "    \"Verb\": [[\"Verb_positive\"], [\"Verb_negative\"], [\"Verb_action\"], [\"Verb_inaction\"]],\n",
    "    \"Adverb\": [[\"Adverb_time\"], [\"Adverb_place\"], [\"Adverb_interrogative\"], [\"Adverb_certain\"], [\"Adverb_uncertain\"]],\n",
    "    \"Conjunction\": [['because'], ['since'], ['as'], ['so'], ['for'], ['and'], ['but'], ['or']],\n",
    "    \"Det\": [[\"the\"], [\"a\"], [\"an\"], [\"this\"], [\"that\"], [\"these\"], [\"those\"]],\n",
    "    \"Prep\": [[\"in\"], [\"on\"], [\"under\"], [\"over\"], [\"with\"], [\"without\"]],\n",
    "    \"Ponctuation\": [[\"Ponct_n\"], [\"Ponct_e\"]]\n",
    "\n",
    "\n",
    "}\n",
    "\n",
    "terminal_words = {\n",
    "    \"Verb_positive\": ['bloom', 'soar', 'soars', 'sparkle', 'thrive', 'illuminates', 'illuminate'],\n",
    "    \"Verb_negative\": ['complain', 'argue', 'blame', 'grumble', 'snarl'],\n",
    "    \"Verb_action\": ['smash', 'grab', 'push', 'shout', 'storm'],\n",
    "    \"Verb_inaction\": ['rest', 'pause', 'hovers', 'hover', 'lazes', 'laze', 'bask'],\n",
    "    \"Adverb_time\": ['suddenly', 'gradually', 'eventually', 'shortly', 'instantly'],\n",
    "    \"Adverb_place\": ['here', 'there', 'everywhere', 'nowhere', 'somewhere'],\n",
    "    \"Adverb_interrogative\": ['curiously', 'wonderingly', 'questioningly', 'doubtfully', 'pensively'],\n",
    "    \"Adj_descriptive\": ['bright', 'calm',  'colorful', 'peaceful', 'radiant'],\n",
    "    \"Adj_quantitative\": ['little', 'few', 'some', 'many', 'much'],\n",
    "    \"Adverb_certain\": ['definitely', 'surely', 'clearly', 'obviously', 'undoubtedly'],\n",
    "    \"Adverb_uncertain\": ['maybe', 'possibly', 'likely', 'arguably', 'presumably'],\n",
    "    \"Noun_simple\": ['car', 'house', 'job', 'money', 'phone', 'discord', 'blight', 'accident', 'damage', 'pain'],\n",
    "    \"Noun_soft\": [\"Feather\", \"Whisper\", \"Breeze\", \"Lullaby\", \"Velvet\", \"Serenity\", \"Meadow\", \"Bubble\", \"Petal\", \"Harmony\",  \"Fawn\", \"Mist\", \"Silk\", \"Cushion\", \"Fluff\", \"Hush\", \"Dew\", \"Sigh\", \"Cocoon\", \"Murmur\"],\n",
    "    \"Noun_harsh\" : [ \"Clash\", \"Fracture\", \"Gravel\", \"Jolt\", \"Quake\",  \"Blaze\", \"Torrent\", \"Shatter\", \"Thorn\", \"Crunch\",  \"Screech\", \"Grit\", \"Splinter\", \"Snarl\", \"Flare\",  \"Rupture\", \"Smog\", \"Clash\", \"Blitz\", \"Jagged\"],\n",
    "    \"P_1st\": ['i', 'me', 'mine', 'we', 'us', 'our', 'ours'],\n",
    "    \"P_2nd\": ['you', 'your', 'yours'],\n",
    "    \"P_3rd\": ['he', 'him', 'his', 'she', 'her', 'hers', 'it', 'its', 'they', 'them', 'their', 'theirs'],\n",
    "    \"Ponct_n\": ['.'],\n",
    "    \"Ponct_e\": ['?', '!']\n",
    "\n",
    "}\n",
    "\n",
    "\n",
    "cfg_rules_positive = {\n",
    "   \"Sentence\": [[\"Simple_2\"], [\"Compound\"]],\n",
    "    \"Compound\": [[\"Simple_1\", \"Conjunction\", \"Simple_2\"]],\n",
    "    \"Simple_1\": [\n",
    "        [\"Sub\", \"VP\"],\n",
    "        [\"Sub\", \"VP\", \"Object\"],\n",
    "        [\"Sub\", \"VP\", \"Object\", \"Adverb\"]\n",
    "    ],\n",
    "\n",
    "    \"Simple_2\": [\n",
    "        [\"Sub\", \"VP\", \"Ponctuation\"],\n",
    "        [\"Sub\", \"VP\", \"Object\", \"Ponctuation\"],\n",
    "        [\"Sub\", \"VP\", \"Object\", \"Adverb\", \"Ponctuation\"]\n",
    "    ],\n",
    "    \"Sub\": [[\"Pronoun\"], [\"Noun\"], [\"Det\", \"Noun\"], [\"Det\", \"Adj\", \"Noun\"]],\n",
    "    \"VP\": [[\"Verb\"], [\"Verb\", \"Adverb\"]],\n",
    "    \"Object\": [\n",
    "        [\"Det\", \"Noun\"],\n",
    "        [\"Det\", \"Adj\", \"Noun\"],\n",
    "        [\"Prep\", \"Det\", \"Noun\"],\n",
    "        [\"Prep\", \"Det\", \"Adj\", \"Noun\"]\n",
    "    ],\n",
    "    \"Noun\": [[\"Noun_soft\"]],\n",
    "    \"Ponctuation\": [ [\"Ponct_e\"]],\n",
    "\n",
    "    \"Adj\": [[\"Adj_descriptive\"]],\n",
    "    \"Pronoun\": [[\"P_3rd\"]],\n",
    "    \"Verb\": [[\"Verb_positive\"], [\"Verb_inaction\"]],\n",
    "    \"Adverb\": [[\"Adverb_time\"], [\"Adverb_place\"], [\"Adverb_interrogative\"], ['Adverb_uncertain']],\n",
    "    \"Det\": [[\"the\"], [\"a\"], [\"an\"], [\"this\"], [\"that\"], [\"these\"], [\"those\"]],\n",
    "    \"Prep\": [[\"in\"], [\"on\"], [\"under\"], [\"over\"], [\"with\"], [\"without\"]],\n",
    "    \"Conjunction\": [['because'], ['since'], ['as'], ['so'], ['for'], ['and'], ['but'], ['or']]\n",
    "}\n",
    "\n",
    "\n",
    "\n",
    "cfg_rules_negative = {\n",
    "\n",
    "  \"Sentence\": [[\"Simple_2\"], [\"Compound\"]],\n",
    "    \"Compound\": [[\"Simple_1\", \"Conjunction\", \"Simple_2\"]],\n",
    "    \"Simple_1\": [\n",
    "        [\"Sub\", \"VP\"],\n",
    "        [\"Sub\", \"VP\", \"Object\"],\n",
    "        [\"Sub\", \"VP\", \"Object\", \"Adverb\"]\n",
    "    ],\n",
    "\n",
    "    \"Simple_2\": [\n",
    "        [\"Sub\", \"VP\", \"Ponctuation\"],\n",
    "        [\"Sub\", \"VP\", \"Object\", \"Ponctuation\"],\n",
    "        [\"Sub\", \"VP\", \"Object\", \"Adverb\", \"Ponctuation\"]\n",
    "    ],\n",
    "    \"Sub\": [[\"Pronoun\"], [\"Noun\"], [\"Det\", \"Noun\"], [\"Det\", \"Adj\", \"Noun\"]],\n",
    "    \"VP\": [[\"Verb\"], [\"Verb\", \"Adverb\"]],\n",
    "    \"Object\": [\n",
    "        [\"Det\", \"Noun\"],\n",
    "        [\"Det\", \"Adj\", \"Noun\"],\n",
    "        [\"Prep\", \"Det\", \"Noun\"],\n",
    "        [\"Prep\", \"Det\", \"Adj\", \"Noun\"]\n",
    "    ],\n",
    "    \"Ponctuation\": [ [\"Ponct_n\"]],\n",
    "    \"Noun\": [ [\"Noun_harsh\"]],\n",
    "    \"Adj\": [ [\"Adj_quantitative\"]],\n",
    "    \"Pronoun\": [[\"P_1st\"]],\n",
    "    \"Verb\": [[\"Verb_negative\"], [\"Verb_action\"]],\n",
    "    # \"Adverb\": [[\"Adverb_time\"], [\"Adverb_place\"], ['Adverb_certain']],\n",
    "    \"Det\": [[\"the\"], [\"a\"], [\"an\"], [\"this\"], [\"that\"], [\"these\"], [\"those\"]],\n",
    "    \"Prep\": [[\"in\"], [\"on\"], [\"under\"], [\"over\"], [\"with\"], [\"without\"]],\n",
    "    \"Conjunction\": [['because'], ['since'], ['as'], ['so'], ['for'], ['and'], ['but'], ['or']]\n",
    "\n",
    "}\n",
    "\n",
    "\n",
    "\n",
    "\n",
    "cfg = CFG_1(cfg_rules, terminal_words)\n",
    "\n",
    "sentence = cfg.generate(\"Sentence\")\n",
    "sentence\n",
    "\n",
    "\n",
    "\n",
    "cfg = CFG_1(cfg_rules_positive, terminal_words)\n",
    "\n",
    "\n",
    "pos_sentences = []\n",
    "\n",
    "\n",
    "for _ in range(25):\n",
    "\n",
    "  sentence = cfg.generate(\"Sentence\")\n",
    "  pos_sentences.append(sentence)\n",
    "\n",
    "\n",
    "cfg = CFG_1(cfg_rules_negative, terminal_words)\n",
    "\n",
    "\n",
    "neg_sentences = []\n",
    "\n",
    "\n",
    "for _ in range(25):\n",
    "\n",
    "  sentence = cfg.generate(\"Sentence\")\n",
    "  neg_sentences.append(sentence)\n",
    "\n",
    "\n",
    "\n",
    "\n"
   ]
  },
  {
   "cell_type": "code",
   "execution_count": null,
   "metadata": {
    "id": "JhfLvldYgDib"
   },
   "outputs": [],
   "source": [
    "cfg_rules = {\n",
    "    \"Sentence\": [[\"Simple_2\"], [\"Compound\"]],\n",
    "    \"Compound\": [[\"Simple_1\", \"Conjunction\", \"Simple_2\"]],\n",
    "    \"Simple_1\": [\n",
    "        [\"Sub\", \"VP\"],\n",
    "        [\"Sub\", \"VP\", \"Object\"],\n",
    "        [\"Sub\", \"VP\", \"Object\", \"Adverb\"]\n",
    "    ],\n",
    "\n",
    "    \"Simple_2\": [\n",
    "        [\"Sub\", \"VP\", \"Ponctuation\"],\n",
    "        [\"Sub\", \"VP\", \"Object\", \"Ponctuation\"],\n",
    "        [\"Sub\", \"VP\", \"Object\", \"Adverb\", \"Ponctuation\"]\n",
    "    ],\n",
    "    \"Sub\": [[\"Pronoun\"], [\"Noun\"], [\"Det\", \"Noun\"], [\"Det\", \"Adj\", \"Noun\"]],\n",
    "    \"VP\": [[\"Verb\"], [\"Verb\", \"Adverb\"]],\n",
    "    \"Object\": [\n",
    "        [\"Det\", \"Noun\"],\n",
    "        [\"Det\", \"Adj\", \"Noun\"],\n",
    "        [\"Prep\", \"Det\", \"Noun\"],\n",
    "        [\"Prep\", \"Det\", \"Adj\", \"Noun\"]\n",
    "    ],\n",
    "    \"Noun\": [[\"Noun_soft\"], [\"Noun_harsh\"]],\n",
    "    \"Adj\": [[\"Adj_descriptive\"], [\"Adj_quantitative\"]],\n",
    "    \"Pronoun\": [[\"P_1st\"], [\"P_2nd\"], [\"P_3rd\"]],\n",
    "    \"Verb\": [[\"Verb_positive\"], [\"Verb_negative\"], [\"Verb_action\"], [\"Verb_inaction\"]],\n",
    "    \"Adverb\": [[\"Adverb_time\"], [\"Adverb_place\"], [\"Adverb_interrogative\"], [\"Adverb_certain\"], [\"Adverb_uncertain\"]],\n",
    "    \"Conjunction\": [['because'], ['since'], ['as'], ['so'], ['for'], ['and'], ['but'], ['or']],\n",
    "    \"Det\": [[\"the\"], [\"a\"], [\"an\"], [\"this\"], [\"that\"], [\"these\"], [\"those\"]],\n",
    "    \"Prep\": [[\"in\"], [\"on\"], [\"under\"], [\"over\"], [\"with\"], [\"without\"]],\n",
    "    \"Ponctuation\": [[\"Ponct_n\"], [\"Ponct_e\"]]\n",
    "\n",
    "\n",
    "}\n",
    "\n",
    "terminal_words = {\n",
    "    \"Verb_positive\": ['bloom', 'soar', 'soars', 'sparkle', 'thrive', 'illuminates', 'illuminate'],\n",
    "    \"Verb_negative\": ['complain', 'argue', 'blame', 'grumble', 'snarl'],\n",
    "    \"Verb_action\": ['smash', 'grab', 'push', 'shout', 'storm'],\n",
    "    \"Verb_inaction\": ['rest', 'pause', 'hovers', 'hover', 'lazes', 'laze', 'bask'],\n",
    "    \"Adverb_time\": ['suddenly', 'gradually', 'eventually', 'shortly', 'instantly'],\n",
    "    \"Adverb_place\": ['here', 'there', 'everywhere', 'nowhere', 'somewhere'],\n",
    "    \"Adverb_interrogative\": ['curiously', 'wonderingly', 'questioningly', 'doubtfully', 'pensively'],\n",
    "    \"Adj_descriptive\": ['bright', 'calm',  'colorful', 'peaceful', 'radiant'],\n",
    "    \"Adj_quantitative\": ['little', 'few', 'some', 'many', 'much'],\n",
    "    \"Adverb_certain\": ['definitely', 'surely', 'clearly', 'obviously', 'undoubtedly'],\n",
    "    \"Adverb_uncertain\": ['maybe', 'possibly', 'likely', 'arguably', 'presumably'],\n",
    "    \"Noun_simple\": ['car', 'house', 'job', 'money', 'phone', 'discord', 'blight', 'accident', 'damage', 'pain'],\n",
    "    \"Noun_soft\": [\"Feather\", \"Whisper\", \"Breeze\", \"Lullaby\", \"Velvet\", \"Serenity\", \"Meadow\", \"Bubble\", \"Petal\", \"Harmony\",  \"Fawn\", \"Mist\", \"Silk\", \"Cushion\", \"Fluff\", \"Hush\", \"Dew\", \"Sigh\", \"Cocoon\", \"Murmur\"],\n",
    "    \"Noun_harsh\" : [ \"Clash\", \"Fracture\", \"Gravel\", \"Jolt\", \"Quake\",  \"Blaze\", \"Torrent\", \"Shatter\", \"Thorn\", \"Crunch\",  \"Screech\", \"Grit\", \"Splinter\", \"Snarl\", \"Flare\",  \"Rupture\", \"Smog\", \"Clash\", \"Blitz\", \"Jagged\"],\n",
    "    \"P_1st\": ['i', 'me', 'mine', 'we', 'us', 'our', 'ours'],\n",
    "    \"P_2nd\": ['you', 'your', 'yours'],\n",
    "    \"P_3rd\": ['he', 'him', 'his', 'she', 'her', 'hers', 'it', 'its', 'they', 'them', 'their', 'theirs'],\n",
    "    \"Ponct_n\": ['.'],\n",
    "    \"Ponct_e\": ['?', '!']\n",
    "\n",
    "}\n",
    "\n",
    "\n",
    "cfg_rules_positive = {\n",
    "   \"Sentence\": [[\"Simple_2\"], [\"Compound\"]],\n",
    "    \"Compound\": [[\"Simple_1\", \"Conjunction\", \"Simple_2\"]],\n",
    "    \"Simple_1\": [\n",
    "        [\"Sub\", \"VP\"],\n",
    "        [\"Sub\", \"VP\", \"Object\"],\n",
    "        [\"Sub\", \"VP\", \"Object\", \"Adverb\"]\n",
    "    ],\n",
    "\n",
    "    \"Simple_2\": [\n",
    "        [\"Sub\", \"VP\", \"Ponctuation\"],\n",
    "        [\"Sub\", \"VP\", \"Object\", \"Ponctuation\"],\n",
    "        [\"Sub\", \"VP\", \"Object\", \"Adverb\", \"Ponctuation\"]\n",
    "    ],\n",
    "    \"Sub\": [[\"Pronoun\"], [\"Noun\"], [\"Det\", \"Noun\"], [\"Det\", \"Adj\", \"Noun\"]],\n",
    "    \"VP\": [[\"Verb\"], [\"Verb\", \"Adverb\"]],\n",
    "    \"Object\": [\n",
    "        [\"Det\", \"Noun\"],\n",
    "        [\"Det\", \"Adj\", \"Noun\"],\n",
    "        [\"Prep\", \"Det\", \"Noun\"],\n",
    "        [\"Prep\", \"Det\", \"Adj\", \"Noun\"]\n",
    "    ],\n",
    "    \"Noun\": [[\"Noun_soft\"]],\n",
    "    \"Ponctuation\": [ [\"Ponct_e\"]],\n",
    "\n",
    "    \"Adj\": [[\"Adj_descriptive\"]],\n",
    "    \"Pronoun\": [[\"P_3rd\"]],\n",
    "    \"Verb\": [[\"Verb_positive\"], [\"Verb_inaction\"]],\n",
    "    \"Adverb\": [[\"Adverb_time\"], [\"Adverb_place\"], [\"Adverb_interrogative\"], ['Adverb_uncertain']],\n",
    "    \"Det\": [[\"the\"], [\"a\"], [\"an\"], [\"this\"], [\"that\"], [\"these\"], [\"those\"]],\n",
    "    \"Prep\": [[\"in\"], [\"on\"], [\"under\"], [\"over\"], [\"with\"], [\"without\"]],\n",
    "    \"Conjunction\": [['because'], ['since'], ['as'], ['so'], ['for'], ['and'], ['but'], ['or']]\n",
    "}\n",
    "\n",
    "\n",
    "\n",
    "cfg_rules_negative = {\n",
    "\n",
    "  \"Sentence\": [[\"Simple_2\"], [\"Compound\"]],\n",
    "    \"Compound\": [[\"Simple_1\", \"Conjunction\", \"Simple_2\"]],\n",
    "    \"Simple_1\": [\n",
    "        [\"Sub\", \"VP\"],\n",
    "        [\"Sub\", \"VP\", \"Object\"],\n",
    "        [\"Sub\", \"VP\", \"Object\", \"Adverb\"]\n",
    "    ],\n",
    "\n",
    "    \"Simple_2\": [\n",
    "        [\"Sub\", \"VP\", \"Ponctuation\"],\n",
    "        [\"Sub\", \"VP\", \"Object\", \"Ponctuation\"],\n",
    "        [\"Sub\", \"VP\", \"Object\", \"Adverb\", \"Ponctuation\"]\n",
    "    ],\n",
    "    \"Sub\": [[\"Pronoun\"], [\"Noun\"], [\"Det\", \"Noun\"], [\"Det\", \"Adj\", \"Noun\"]],\n",
    "    \"VP\": [[\"Verb\"], [\"Verb\", \"Adverb\"]],\n",
    "    \"Object\": [\n",
    "        [\"Det\", \"Noun\"],\n",
    "        [\"Det\", \"Adj\", \"Noun\"],\n",
    "        [\"Prep\", \"Det\", \"Noun\"],\n",
    "        [\"Prep\", \"Det\", \"Adj\", \"Noun\"]\n",
    "    ],\n",
    "    \"Ponctuation\": [ [\"Ponct_n\"]],\n",
    "    \"Noun\": [ [\"Noun_harsh\"]],\n",
    "    \"Adj\": [ [\"Adj_quantitative\"]],\n",
    "    \"Pronoun\": [[\"P_1st\"]],\n",
    "    \"Verb\": [[\"Verb_negative\"], [\"Verb_action\"]],\n",
    "    # \"Adverb\": [[\"Adverb_time\"], [\"Adverb_place\"], ['Adverb_certain']],\n",
    "    \"Det\": [[\"the\"], [\"a\"], [\"an\"], [\"this\"], [\"that\"], [\"these\"], [\"those\"]],\n",
    "    \"Prep\": [[\"in\"], [\"on\"], [\"under\"], [\"over\"], [\"with\"], [\"without\"]],\n",
    "    \"Conjunction\": [['because'], ['since'], ['as'], ['so'], ['for'], ['and'], ['but'], ['or']]\n",
    "\n",
    "}\n",
    "\n",
    "\n",
    "\n",
    "\n",
    "\n"
   ]
  },
  {
   "cell_type": "code",
   "execution_count": null,
   "metadata": {
    "colab": {
     "base_uri": "https://localhost:8080/",
     "height": 37
    },
    "id": "NJ5Lv26zYflO",
    "outputId": "737f4ec2-b149-4ccb-a594-7b0f83f6cd84"
   },
   "outputs": [],
   "source": [
    "cfg = CFG_1(cfg_rules, terminal_words)\n",
    "\n",
    "sentence = cfg.generate(\"Sentence\")\n",
    "sentence\n"
   ]
  },
  {
   "cell_type": "code",
   "execution_count": null,
   "metadata": {
    "id": "Qv6w0WY_Yfi4"
   },
   "outputs": [],
   "source": [
    "cfg = CFG_1(cfg_rules, terminal_words)\n",
    "\n",
    "sentence = cfg.generate(\"Sentence\")\n",
    "sentence\n",
    "\n",
    "\n",
    "\n",
    "cfg = CFG_1(cfg_rules_positive, terminal_words)\n",
    "\n",
    "\n",
    "pos_sentences = []\n",
    "\n",
    "\n",
    "for _ in range(25):\n",
    "\n",
    "  sentence = cfg.generate(\"Sentence\")\n",
    "  pos_sentences.append(sentence)\n",
    "\n",
    "\n",
    "cfg = CFG_1(cfg_rules_negative, terminal_words)\n",
    "\n",
    "\n",
    "neg_sentences = []\n",
    "\n",
    "\n",
    "for _ in range(25):\n",
    "\n",
    "  sentence = cfg.generate(\"Sentence\")\n",
    "  neg_sentences.append(sentence)\n",
    "\n"
   ]
  },
  {
   "cell_type": "code",
   "execution_count": null,
   "metadata": {
    "colab": {
     "base_uri": "https://localhost:8080/"
    },
    "id": "2fQ--ZZe_5Ts",
    "outputId": "af9fbbf3-019c-4b5d-af6d-c1d9be6817ab"
   },
   "outputs": [],
   "source": [
    "pos_sentences"
   ]
  },
  {
   "cell_type": "code",
   "execution_count": null,
   "metadata": {
    "id": "Wp1D3Y6JYfgz"
   },
   "outputs": [],
   "source": [
    "cfg = CFG_1(cfg_rules_negative, terminal_words)\n",
    "\n",
    "\n",
    "neg_sentences = []\n",
    "\n",
    "\n",
    "for _ in range(25):\n",
    "\n",
    "  sentence = cfg.generate(\"Sentence\")\n",
    "  neg_sentences.append(sentence)\n"
   ]
  },
  {
   "cell_type": "code",
   "execution_count": null,
   "metadata": {
    "colab": {
     "base_uri": "https://localhost:8080/"
    },
    "id": "p6D9gRcw_8b0",
    "outputId": "7d10d170-3fea-4a7a-b375-dadafef4ff3b"
   },
   "outputs": [],
   "source": [
    "neg_sentences"
   ]
  },
  {
   "cell_type": "code",
   "execution_count": null,
   "metadata": {
    "id": "1Kf3MOUxWhyc"
   },
   "outputs": [],
   "source": []
  },
  {
   "cell_type": "code",
   "execution_count": null,
   "metadata": {
    "id": "PsSkq6BxJ1B9"
   },
   "outputs": [],
   "source": []
  },
  {
   "cell_type": "code",
   "execution_count": null,
   "metadata": {
    "id": "Hup-DBQLJ0_I"
   },
   "outputs": [],
   "source": []
  },
  {
   "cell_type": "code",
   "execution_count": null,
   "metadata": {
    "id": "eGnHpX0-J08t"
   },
   "outputs": [],
   "source": []
  },
  {
   "cell_type": "code",
   "execution_count": null,
   "metadata": {
    "id": "-DmoWOubJ059"
   },
   "outputs": [],
   "source": []
  },
  {
   "cell_type": "code",
   "execution_count": null,
   "metadata": {
    "id": "Za8-wHVmJ03N"
   },
   "outputs": [],
   "source": []
  },
  {
   "cell_type": "code",
   "execution_count": null,
   "metadata": {
    "colab": {
     "base_uri": "https://localhost:8080/"
    },
    "id": "xRr5ASRIWhvX",
    "outputId": "d87c8628-ef01-437c-d9b4-0c23f9ce7770"
   },
   "outputs": [],
   "source": [
    "def generate_actions(cfg_rules, word_class):\n",
    "\n",
    "    actions = set()\n",
    "\n",
    "    occurrences = []\n",
    "    for key, rules in cfg_rules.items():\n",
    "        for rule in rules:\n",
    "            if word_class in rule:\n",
    "                occurrences.append((key, rule))\n",
    "\n",
    "    for key, rule in occurrences:\n",
    "        index = rule.index(word_class)\n",
    "        if index + 1 < len(rule):\n",
    "            next_symbol = rule[index + 1]\n",
    "            actions = actions.union(traverse_down(cfg_rules, next_symbol))\n",
    "        else:\n",
    "            up_symbols = traverse_up(cfg_rules, key)\n",
    "            for s in up_symbols:\n",
    "                actions = actions.union(traverse_down(cfg_rules, s))\n",
    "\n",
    "    return actions\n",
    "\n",
    "\n",
    "\n",
    "\n",
    "def traverse_down(cfg_rules, s):\n",
    "    \"\"\"\n",
    "    Traverse down in the CFG from a given symbol and collect terminal symbols.\n",
    "    \"\"\"\n",
    "    S_star = set()\n",
    "\n",
    "    def recursive_traverse_down(s_prime, S_star):\n",
    "        if s_prime in terminal_symbols:\n",
    "            S_star.add(s_prime)\n",
    "        else:\n",
    "            for rule in cfg_rules.get(s_prime, []):\n",
    "                if rule:\n",
    "                    first_symbol = rule[0]\n",
    "                    recursive_traverse_down(first_symbol, S_star)\n",
    "\n",
    "    recursive_traverse_down(s, S_star)\n",
    "    return S_star\n",
    "\n",
    "\n",
    "\n",
    "\n",
    "\n",
    "def traverse_up(cfg_rules, s):\n",
    "    \"\"\"\n",
    "    Traverse up in the CFG from a given symbol and collect symbols that can follow it.\n",
    "    \"\"\"\n",
    "    S_star = set()\n",
    "\n",
    "    def recursive_traverse_up(s_prime, S_star):\n",
    "        found_next = False\n",
    "        for key, rules in cfg_rules.items():\n",
    "            for rule in rules:\n",
    "                if s_prime in rule:\n",
    "                    index = rule.index(s_prime)\n",
    "                    if index + 1 < len(rule):\n",
    "                        S_star.add(rule[index + 1])\n",
    "                        found_next = True\n",
    "\n",
    "        if not found_next:\n",
    "            for key, rules in cfg_rules.items():\n",
    "                for rule in rules:\n",
    "                    if s_prime in rule:\n",
    "                        s_l = key\n",
    "                        instances = [r for r in rules if s_l in r]\n",
    "                        if not instances:\n",
    "                            S_star.add(\"<EOS>\")\n",
    "                        else:\n",
    "                            for instance in instances:\n",
    "                                recursive_traverse_up(s_l, S_star)\n",
    "\n",
    "    recursive_traverse_up(s, S_star)\n",
    "    return S_star\n",
    "\n",
    "def traverse_up(cfg_rules, s):\n",
    "    \"\"\"\n",
    "    Traverse up in the CFG from a given symbol and collect symbols that can follow it.\n",
    "    \"\"\"\n",
    "    S_star = set()\n",
    "\n",
    "    def recursive_traverse_up(s_prime, S_star, visited):\n",
    "        if s_prime in visited:\n",
    "            return\n",
    "        visited.add(s_prime)\n",
    "\n",
    "        for key, rules in cfg_rules.items():\n",
    "            for rule in rules:\n",
    "                if s_prime in rule:\n",
    "                    index = rule.index(s_prime)\n",
    "                    if index + 1 < len(rule):\n",
    "                        S_star.add(rule[index + 1])\n",
    "                    else:\n",
    "                        # Traverse to the left-hand side symbol of this rule\n",
    "                        recursive_traverse_up(key, S_star, visited)\n",
    "\n",
    "    recursive_traverse_up(s, S_star, set())\n",
    "    if not S_star:\n",
    "        S_star.add(\"<EOS>\")  # Add <EOS> if no symbols are found\n",
    "    return S_star\n",
    "\n",
    "# Test the revised traverse_up function\n",
    "# traverse_up(cfg_rules_non_enriched, 'Verb')\n",
    "\n",
    "\n",
    "\n",
    "\n",
    "cfg_rules_non_enriched = {\n",
    "    \"Sentence\":  [[\"Simple\"], [\"Compound\"]],\n",
    "    \"Compound\" : [[\"Simple\", \"Conjunction\", \"Simple\"]],\n",
    "    \"Simple\" : [\n",
    "        [\"Sub\", \"VP\"],\n",
    "        [\"Sub\", \"VP\", \"Object\"],\n",
    "        [\"Sub\", \"VP\", \"Object\", \"Adverb\"]\n",
    "    ],\n",
    "    \"Sub\" : [[\"Pronoun\"], [\"Noun\"], [\"Det\", \"Noun\"], [\"Det\", \"Adj\", \"Noun\"]],\n",
    "    \"VP\" : [[\"Verb\"], [\"Verb\", \"Adverb\"]],\n",
    "    \"Object\": [\n",
    "        [\"Det\", \"Noun\"],\n",
    "        [\"Det\", \"Adj\", \"Noun\"],\n",
    "        [\"Prep\", \"Det\", \"Noun\"],\n",
    "        [\"Prep\", \"Det\", \"Adj\", \"Noun\"]\n",
    "    ]\n",
    "}\n",
    "\n",
    "terminal_symbols = [\"Prep\", \"Det\", \"Adj\", \"Noun\", \"Conjunction\", \"Verb\", \"Adverb\", \"Pronoun\"]\n",
    "\n",
    "generate_actions(cfg_rules_non_enriched, 'Verb')"
   ]
  },
  {
   "cell_type": "code",
   "execution_count": null,
   "metadata": {
    "id": "1HDMTUN8YAUO"
   },
   "outputs": [],
   "source": []
  },
  {
   "cell_type": "code",
   "execution_count": null,
   "metadata": {
    "id": "8MPzhhUGYARo"
   },
   "outputs": [],
   "source": []
  },
  {
   "cell_type": "code",
   "execution_count": null,
   "metadata": {
    "id": "ljzT7LNX_8Ox"
   },
   "outputs": [],
   "source": []
  },
  {
   "cell_type": "code",
   "execution_count": null,
   "metadata": {
    "id": "U6YHSgrP_8L3"
   },
   "outputs": [],
   "source": []
  },
  {
   "cell_type": "code",
   "execution_count": null,
   "metadata": {
    "colab": {
     "base_uri": "https://localhost:8080/"
    },
    "id": "qP29PvlP2Ecl",
    "outputId": "ae01d547-8879-4823-b2cf-a74c51eda4d3"
   },
   "outputs": [],
   "source": [
    "def get_terminal_options(mappings, non_terminal):\n",
    "\n",
    "    return [option for sublist in mappings.get(non_terminal, []) for option in sublist]\n",
    "\n",
    "def get_non_terminal(mappings, terminal):\n",
    "\n",
    "    mappings = {\n",
    "    \"Noun\": [[\"Noun_simple\"], [\"Noun_elaborated\"]],\n",
    "    \"Adj\": [[\"Adj_descriptive\"], [\"Adj_quantitative\"]],\n",
    "    \"Pronoun\": [[\"P_1st\"], [\"P_2nd\"], [\"P_3rd\"]],\n",
    "    \"Verb\": [[\"Verb_positive\"], [\"Verb_negative\"], [\"Verb_action\"], [\"Verb_inaction\"]],\n",
    "    \"Adverb\": [[\"Adverb_time\"], [\"Adverb_place\"], [\"Adverb_interrogative\"]],\n",
    "    \"Conjunction\": [[\"Conjunction_certain\"], [\"Conjunction_uncertain\"], [\"Conjunction_explanatory\"]],\n",
    "    \"Det\": [[\"Det\"]],\n",
    "    \"Prep\": [['Prep']]\n",
    "\n",
    "}\n",
    "\n",
    "\n",
    "    for non_terminal, options in mappings.items():\n",
    "        if any(terminal in sublist for sublist in options):\n",
    "            return non_terminal\n",
    "    return None\n",
    "\n",
    "\n",
    "\n",
    "print(get_terminal_options(mappings, 'Adverb'))\n",
    "print(get_non_terminal(mappings, 'Verb_negative'))\n",
    "\n"
   ]
  },
  {
   "cell_type": "code",
   "execution_count": null,
   "metadata": {
    "colab": {
     "base_uri": "https://localhost:8080/"
    },
    "id": "jxHg9CFq2Eam",
    "outputId": "28acddf6-e2ee-4516-a09d-1bd18b252271"
   },
   "outputs": [],
   "source": [
    "for state in states:\n",
    "  non_terminal_state= get_non_terminal(mappings, state)\n",
    "  print(non_terminal_state, generate_actions(cfg_rules_non_enriched, non_terminal_state))\n"
   ]
  },
  {
   "cell_type": "code",
   "execution_count": null,
   "metadata": {
    "colab": {
     "base_uri": "https://localhost:8080/"
    },
    "id": "XsvYET_t2EYP",
    "outputId": "5d1a6a4c-4391-4108-ced5-6ed6a9896c0d"
   },
   "outputs": [],
   "source": [
    "states"
   ]
  },
  {
   "cell_type": "code",
   "execution_count": null,
   "metadata": {
    "id": "oYm7Y139tRGE"
   },
   "outputs": [],
   "source": []
  },
  {
   "cell_type": "code",
   "execution_count": null,
   "metadata": {
    "id": "oBYIdOnh3MJg"
   },
   "outputs": [],
   "source": []
  },
  {
   "cell_type": "code",
   "execution_count": null,
   "metadata": {
    "id": "6QhO4FWm3MHF"
   },
   "outputs": [],
   "source": []
  },
  {
   "cell_type": "code",
   "execution_count": null,
   "metadata": {
    "id": "gQzcz1JL3MFB"
   },
   "outputs": [],
   "source": []
  },
  {
   "cell_type": "code",
   "execution_count": null,
   "metadata": {
    "id": "XShqVif4sNCS"
   },
   "outputs": [],
   "source": []
  },
  {
   "cell_type": "code",
   "execution_count": null,
   "metadata": {
    "id": "zNftaqi1Yfca"
   },
   "outputs": [],
   "source": []
  },
  {
   "cell_type": "code",
   "execution_count": null,
   "metadata": {
    "id": "jx92tUVHYfap"
   },
   "outputs": [],
   "source": []
  },
  {
   "cell_type": "code",
   "execution_count": null,
   "metadata": {
    "id": "5iGI-6ntYfYX"
   },
   "outputs": [],
   "source": []
  },
  {
   "cell_type": "code",
   "execution_count": null,
   "metadata": {
    "colab": {
     "base_uri": "https://localhost:8080/",
     "height": 140
    },
    "id": "VFT1RM-s4JpM",
    "outputId": "e79d2bbd-ec3e-47d4-bf2e-453dac0eb7a0"
   },
   "outputs": [],
   "source": [
    "stop here"
   ]
  },
  {
   "cell_type": "code",
   "execution_count": null,
   "metadata": {
    "id": "dXg2LLacDlXr"
   },
   "outputs": [],
   "source": []
  },
  {
   "cell_type": "code",
   "execution_count": null,
   "metadata": {
    "id": "apwvDU7IDlWK"
   },
   "outputs": [],
   "source": []
  },
  {
   "cell_type": "code",
   "execution_count": null,
   "metadata": {
    "id": "xMborOToDlUZ"
   },
   "outputs": [],
   "source": []
  },
  {
   "cell_type": "markdown",
   "metadata": {
    "id": "bGD79DOxDmjP"
   },
   "source": [
    "# STOP HERE OLD CODE !!!!!!"
   ]
  },
  {
   "cell_type": "markdown",
   "metadata": {
    "id": "TbyDcsdUEog3"
   },
   "source": [
    "# STOP HERE OLD CODE !!!!!!"
   ]
  },
  {
   "cell_type": "code",
   "execution_count": null,
   "metadata": {
    "id": "DSWhNKQREnRu"
   },
   "outputs": [],
   "source": []
  },
  {
   "cell_type": "code",
   "execution_count": null,
   "metadata": {
    "id": "B--Vw8oZEnP2"
   },
   "outputs": [],
   "source": []
  },
  {
   "cell_type": "code",
   "execution_count": null,
   "metadata": {
    "id": "rWAMkUGJEnN1"
   },
   "outputs": [],
   "source": []
  },
  {
   "cell_type": "code",
   "execution_count": null,
   "metadata": {
    "id": "4lCCfbn5EnLq"
   },
   "outputs": [],
   "source": []
  },
  {
   "cell_type": "code",
   "execution_count": null,
   "metadata": {
    "id": "85KYC9CVEnJm"
   },
   "outputs": [],
   "source": []
  },
  {
   "cell_type": "code",
   "execution_count": null,
   "metadata": {
    "id": "YJ7BrdM5EnHp"
   },
   "outputs": [],
   "source": []
  },
  {
   "cell_type": "code",
   "execution_count": null,
   "metadata": {
    "id": "L5QJiC_is0BO"
   },
   "outputs": [],
   "source": [
    "from sklearn.preprocessing import OneHotEncoder\n",
    "import numpy as np\n",
    "\n",
    "# Corpus provided by the user\n",
    "corpus = ['I love basketball',\n",
    "          'I love football',\n",
    "          'I love soccer',\n",
    "          'I love tennis',\n",
    "          'I love volleyball',\n",
    "          'I love cake',\n",
    "          'I love cookies',\n",
    "          'I love pizza',\n",
    "          'I love chocolate',\n",
    "          'I love candies',\n",
    "          ]\n",
    "\n",
    "corpus_1 = ['I love basketball',\n",
    "          'I love football',\n",
    "          'I love soccer',\n",
    "          'I love tennis',\n",
    "          'I love volleyball',]\n",
    "\n",
    "corpus_2 = ['I love cake',\n",
    "          'I love cookies',\n",
    "          'I love pizza',\n",
    "          'I love chocolate',\n",
    "          'I love candies',\n",
    "          ]\n",
    "\n",
    "\n",
    "\n"
   ]
  },
  {
   "cell_type": "code",
   "execution_count": null,
   "metadata": {
    "id": "omBsZgVntvEY"
   },
   "outputs": [],
   "source": [
    "# Tokenize the sentences and create a set of unique words\n",
    "unique_words = set(word for sentence in corpus for word in sentence.split())\n",
    "\n",
    "# Sort the unique words to have consistent order\n",
    "sorted_unique_words = sorted(list(unique_words))\n",
    "\n",
    "# Initialize the OneHotEncoder\n",
    "encoder = OneHotEncoder(sparse=False)\n",
    "\n",
    "# Reshape and fit transform the sorted unique words\n",
    "one_hot_encoded = encoder.fit_transform(np.array(sorted_unique_words).reshape(-1, 1))\n",
    "\n",
    "# Map each unique word to its one-hot encoded vector\n",
    "word_to_one_hot = dict(zip(sorted_unique_words, one_hot_encoded))\n",
    "\n",
    "# Display the one-hot encoded vectors\n",
    "for word, one_hot_vector in word_to_one_hot.items():\n",
    "    print(f\"Word: {word}, One-hot vector: {one_hot_vector}\")\n",
    "\n",
    "\n"
   ]
  },
  {
   "cell_type": "code",
   "execution_count": null,
   "metadata": {
    "id": "Xsri46jUtv1-"
   },
   "outputs": [],
   "source": [
    "one_hot_encoded"
   ]
  },
  {
   "cell_type": "code",
   "execution_count": null,
   "metadata": {
    "id": "j3HjjQL2tvxp"
   },
   "outputs": [],
   "source": [
    "word_to_one_hot"
   ]
  },
  {
   "cell_type": "code",
   "execution_count": null,
   "metadata": {
    "id": "-X3Te1gjtvrD"
   },
   "outputs": [],
   "source": [
    "# Initialize the 3D matrix of zeros\n",
    "transition = np.zeros((12, 12, 12))\n",
    "\n",
    "# Iterate through the second dimension to set the ith column to ones\n",
    "for i in range(12):\n",
    "    transition[:, i, i] = 1\n",
    "\n"
   ]
  },
  {
   "cell_type": "code",
   "execution_count": null,
   "metadata": {
    "id": "UaUgj0xJtvvc"
   },
   "outputs": [],
   "source": [
    "D1 = []\n",
    "\n",
    "\n",
    "for sentence  in corpus_1:\n",
    "  episode = []\n",
    "  sentence = sentence.split()\n",
    "  for i in range(len(sentence) - 1):\n",
    "\n",
    "    s = np.argmax(word_to_one_hot[sentence[i]])\n",
    "    s_next = np.argmax(word_to_one_hot[sentence[i + 1]])\n",
    "    episode.append((s, s_next, s_next))\n",
    "\n",
    "  D1.append(T.Trajectory(episode))"
   ]
  },
  {
   "cell_type": "code",
   "execution_count": null,
   "metadata": {
    "id": "u5yRB5Hw8dUt"
   },
   "outputs": [],
   "source": [
    "one_hot_encoded"
   ]
  },
  {
   "cell_type": "code",
   "execution_count": null,
   "metadata": {
    "id": "p38cWDPZtvtX"
   },
   "outputs": [],
   "source": [
    "D1"
   ]
  },
  {
   "cell_type": "code",
   "execution_count": null,
   "metadata": {
    "id": "qYcwKHLU8-Ku"
   },
   "outputs": [],
   "source": [
    "terminal1 = []\n",
    "\n",
    "for traj in D1:\n",
    "  terminal1.append(traj._t[-1][-1])\n",
    "\n",
    "terminal1 = list(set(terminal1))"
   ]
  },
  {
   "cell_type": "code",
   "execution_count": null,
   "metadata": {
    "id": "kKtRXpVB9UAp"
   },
   "outputs": [],
   "source": [
    "terminal1"
   ]
  },
  {
   "cell_type": "code",
   "execution_count": null,
   "metadata": {
    "id": "L7jBmoGW38iA"
   },
   "outputs": [],
   "source": [
    "#   initialize parameters with constant\n",
    "init = O.Constant(1.0)\n",
    "\n",
    "# choose our optimization strategy:\n",
    "#   we select exponentiated stochastic gradient descent with linear learning-rate decay\n",
    "optim = O.ExpSga(lr=O.linear_decay(lr0=0.2))\n",
    "\n",
    "# Computing the R function through inverse reinforcement learning\n",
    "reward_maxent1 = irl(transition, one_hot_encoded, terminal1, D1, optim, init)"
   ]
  },
  {
   "cell_type": "code",
   "execution_count": null,
   "metadata": {
    "id": "5BgkjAJ239RM"
   },
   "outputs": [],
   "source": [
    "reward_maxent1"
   ]
  },
  {
   "cell_type": "code",
   "execution_count": null,
   "metadata": {
    "id": "pT0yzVSs39OW"
   },
   "outputs": [],
   "source": [
    "word_to_one_hot"
   ]
  },
  {
   "cell_type": "code",
   "execution_count": null,
   "metadata": {
    "id": "s2pF6crI-KII"
   },
   "outputs": [],
   "source": [
    "D2 = []\n",
    "\n",
    "\n",
    "for sentence  in corpus_2:\n",
    "  episode = []\n",
    "  sentence = sentence.split()\n",
    "  for i in range(len(sentence) - 1):\n",
    "\n",
    "    s = np.argmax(word_to_one_hot[sentence[i]])\n",
    "    s_next = np.argmax(word_to_one_hot[sentence[i + 1]])\n",
    "    episode.append((s, s_next, s_next))\n",
    "\n",
    "  D2.append(T.Trajectory(episode))"
   ]
  },
  {
   "cell_type": "code",
   "execution_count": null,
   "metadata": {
    "id": "bS6L_puN-jn8"
   },
   "outputs": [],
   "source": [
    "terminal2 = []\n",
    "\n",
    "for traj in D2:\n",
    "  terminal2.append(traj._t[-1][-1])\n",
    "\n",
    "terminal2 = list(set(terminal2))"
   ]
  },
  {
   "cell_type": "code",
   "execution_count": null,
   "metadata": {
    "id": "wzBxDhVS39JM"
   },
   "outputs": [],
   "source": [
    "#   initialize parameters with constant\n",
    "init = O.Constant(1.0)\n",
    "\n",
    "# choose our optimization strategy:\n",
    "#   we select exponentiated stochastic gradient descent with linear learning-rate decay\n",
    "optim = O.ExpSga(lr=O.linear_decay(lr0=0.2))\n",
    "\n",
    "# Computing the R function through inverse reinforcement learning\n",
    "reward_maxent2 = irl(transition, one_hot_encoded, terminal2, D2, optim, init)"
   ]
  },
  {
   "cell_type": "code",
   "execution_count": null,
   "metadata": {
    "id": "Ms03nFgx-AN4"
   },
   "outputs": [],
   "source": [
    "reward_maxent2"
   ]
  },
  {
   "cell_type": "code",
   "execution_count": null,
   "metadata": {
    "id": "ai52_euM-02X"
   },
   "outputs": [],
   "source": [
    "word_to_one_hot"
   ]
  }
 ],
 "metadata": {
  "colab": {
   "provenance": []
  },
  "kernelspec": {
   "display_name": "Python 3 (ipykernel)",
   "language": "python",
   "name": "python3"
  },
  "language_info": {
   "codemirror_mode": {
    "name": "ipython",
    "version": 3
   },
   "file_extension": ".py",
   "mimetype": "text/x-python",
   "name": "python",
   "nbconvert_exporter": "python",
   "pygments_lexer": "ipython3",
   "version": "3.10.12"
  }
 },
 "nbformat": 4,
 "nbformat_minor": 4
}
